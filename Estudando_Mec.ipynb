{
  "nbformat": 4,
  "nbformat_minor": 0,
  "metadata": {
    "colab": {
      "name": "Estudando_Mec.ipynb",
      "provenance": []
    },
    "kernelspec": {
      "name": "python3",
      "display_name": "Python 3"
    },
    "language_info": {
      "name": "python"
    }
  },
  "cells": [
    {
      "cell_type": "code",
      "source": [
        "#Calculando  as velocidades finais de dois blocos em colisões colisões elástica\n",
        "def velocidadebloco1(Ma,Mb,Vai,Vbi):\n",
        "    Vaf = ((Ma - Mb) /(Ma + Mb))*Vai + ((2*Mb)/(Ma + Mb))*Vbi\n",
        "    return Vaf\n",
        "print(velocidadebloco1(4,2,6,3))\n",
        "\n",
        "\n"
      ],
      "metadata": {
        "colab": {
          "base_uri": "https://localhost:8080/"
        },
        "id": "vgETASpmbSN6",
        "outputId": "cd30a162-ddf9-46ff-b88f-9ce6343c2fe2"
      },
      "execution_count": 2,
      "outputs": [
        {
          "output_type": "stream",
          "name": "stdout",
          "text": [
            "4.0\n"
          ]
        }
      ]
    }
  ]
}