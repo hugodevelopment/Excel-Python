{
  "nbformat": 4,
  "nbformat_minor": 0,
  "metadata": {
    "colab": {
      "name": "IncertezasPlanoInclinado.ipynb",
      "provenance": []
    },
    "kernelspec": {
      "name": "python3",
      "display_name": "Python 3"
    },
    "language_info": {
      "name": "python"
    }
  },
  "cells": [
    {
      "cell_type": "markdown",
      "source": [
        "**Passos: 1º  "
      ],
      "metadata": {
        "id": "bo-axFo8Xo7D"
      }
    },
    {
      "cell_type": "code",
      "source": [
        "import numpy as np\n",
        "\n",
        "# Criando as variáveis para utilizar na equação\n",
        "incertezaPlanador = 0.05\n",
        "Planador = 9.7\n",
        "listaDados = [[0.38,0.10,0.24], [0.44,0.11,0.21]]\n",
        "resultadoIncerteza = []\n",
        "resultado = 0.0\n",
        "\n",
        "# Função para calcular a incerteza da velocidade\n",
        "def incertezavelocidade(v,incertezaTempo,Tempo):\n",
        "  return(v*np.sqrt((incertezaPlanador/Planador)**2 + (incertezaTempo/Tempo)**2))\n",
        "\n",
        "# Função para percorrer a lista de dados e realizar os cálculos de acordo com os indices\n",
        "def percorreLista():\n",
        "   for i in range(len(listaDados)):\n",
        "        # a variável resultado recebe a função incertezvelocidade com a equação e percorre os dados da velocidade, incerteza do tempo e tempo  \n",
        "        resultado = incertezavelocidade(listaDados[i][0],listaDados[i][1],listaDados[i][2]) \n",
        "        # uma lista para armazenar o resultado da equação com um append\n",
        "        resultadoIncerteza.append(resultado)            \n",
        "\n",
        "\n",
        "# começando o programa\n",
        "percorreLista()\n",
        "\n",
        "# printando o resultado na tela\n",
        "print(resultadoIncerteza)"
      ],
      "metadata": {
        "colab": {
          "base_uri": "https://localhost:8080/"
        },
        "id": "I0w3hLQEX10h",
        "outputId": "fce4bd5f-0e91-4469-affb-a74b9439b075"
      },
      "execution_count": 1,
      "outputs": [
        {
          "output_type": "stream",
          "name": "stdout",
          "text": [
            "0.24\n",
            "0.21\n",
            "[0.15834544892888575, 0.2304873497341459]\n"
          ]
        }
      ]
    },
    {
      "cell_type": "markdown",
      "source": [
        ""
      ],
      "metadata": {
        "id": "dq_HPkiyXn8D"
      }
    }
  ]
}