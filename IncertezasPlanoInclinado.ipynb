{
  "nbformat": 4,
  "nbformat_minor": 0,
  "metadata": {
    "colab": {
      "name": "IncertezasPlanoInclinado.ipynb",
      "provenance": []
    },
    "kernelspec": {
      "name": "python3",
      "display_name": "Python 3"
    },
    "language_info": {
      "name": "python"
    }
  },
  "cells": [
    {
      "cell_type": "markdown",
      "source": [
        "**Passos: 1º  "
      ],
      "metadata": {
        "id": "bo-axFo8Xo7D"
      }
    },
    {
      "cell_type": "code",
      "source": [
        "import numpy as np\n",
        "\n",
        "incertezaPlanador = 0.05\n",
        "Planador = 9.7\n",
        "\n",
        "def incertezavelocidade(v,incertezaTempo,Tempo):\n",
        "  return(v*np.sqrt((incertezaPlanador/Planador)**2 + (incertezaTempo/Tempo)**2))\n",
        "\n",
        "listaDados = [[0.38,0.10,0.24], [0.44,0.11,0.21]]\n",
        "resultadoIncerteza = []\n",
        "resultado = 0.0\n",
        "\n",
        "def percorreLista():\n",
        "   for i in range(len(listaDados)):\n",
        "        resultado = incertezavelocidade(listaDados[i][0],listaDados[i][1],listaDados[i][2])\n",
        "        print(listaDados[i][2])\n",
        "        resultadoIncerteza.append(resultado)            \n",
        "\n",
        "\n",
        "# começando o programa\n",
        "percorreLista()\n",
        "\n",
        "print(resultadoIncerteza)"
      ],
      "metadata": {
        "colab": {
          "base_uri": "https://localhost:8080/"
        },
        "id": "I0w3hLQEX10h",
        "outputId": "7c82206f-274f-4cc6-9667-47664848b5a1"
      },
      "execution_count": 5,
      "outputs": [
        {
          "output_type": "stream",
          "name": "stdout",
          "text": [
            "0.24\n",
            "0.21\n",
            "[0.15834544892888575, 0.2304873497341459]\n"
          ]
        }
      ]
    },
    {
      "cell_type": "markdown",
      "source": [
        ""
      ],
      "metadata": {
        "id": "dq_HPkiyXn8D"
      }
    }
  ]
}