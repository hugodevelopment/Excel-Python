{
  "cells": [
    {
      "cell_type": "code",
      "execution_count": 4,
      "metadata": {
        "colab": {
          "base_uri": "https://localhost:8080/"
        },
        "id": "6CsW1bADm0X8",
        "outputId": "7c639051-46d4-4a55-dd59-5ff90678181c"
      },
      "outputs": [
        {
          "name": "stdout",
          "output_type": "stream",
          "text": [
            "O tempo do lançamento horizontal é  1.08 s\n",
            "O alcance estimado para o angulo de 45º é 5.48 m\n",
            "Lista dos 10 alcances:  [8.36, 8.3, 8.365, 8.33, 8.34, 8.34, 8.34, 8.31, 8.383, 8.35]\n",
            "Média dos 10 alcances <A>:  8.34\n",
            "Erro percentual entre o alcance teorico e experimental: 52.19 %\n"
          ]
        }
      ],
      "source": [
        "import numpy as np\n",
        "\n",
        "def tempo(v,seno,g,h):\n",
        "  t = ((v*seno + np.sqrt(v**2*seno**2 + 2*g*h))/g)\n",
        "  return t\n",
        "\n",
        "# Definindo as variáveis\n",
        "v = 7.17\n",
        "h = 0.25  \n",
        "seno = np.sin(np.radians(45))\n",
        "g = 9.79\n",
        "\n",
        "# Tem que ser a mesma ordem dos parametros\n",
        "t = np.round(tempo(v,seno,g,h),2)\n",
        "print(\"O tempo do lançamento horizontal é \",t,\"s\")\n",
        "  \n",
        "A = np.round(v*np.cos(np.radians(45))*t,2)\n",
        "print(\"O alcance estimado para o angulo de 45º é\",A,\"m\")\n",
        "\n",
        "# Calculando o alcance para o lançamento obliquo com 45º\n",
        "dados = [4.28,4.22,4.285,4.25,4.26,4.26,4.26,4.23,4.303,4.27]\n",
        "Lista_alcance = []\n",
        "distancia_total = 4.08\n",
        "\n",
        "\n",
        "def percorreLista():\n",
        "    for i in range(len(dados)):\n",
        "      alcance = (dados[i] + 4.08)\n",
        "      Lista_alcance.append(alcance)\n",
        "percorreLista()\n",
        "\n",
        "print(\"Lista dos 10 alcances: \",Lista_alcance)\n",
        "print(\"Média dos 10 alcances <A>: \",np.round(np.mean(Lista_alcance),2)) \n",
        "\n",
        "\n",
        "def erroPercentual(A,A_medio):\n",
        "  erro = (np.abs(A_medio - A)/A)*100\n",
        "  return erro\n",
        "\n",
        "A_medio = 8.34\n",
        "erro = np.round(erroPercentual(A,A_medio),2)\n",
        "print(\"Erro percentual entre o alcance teorico e experimental:\", erro,'%')  "
      ]
    }
  ],
  "metadata": {
    "colab": {
      "name": "Lançamento_de_Projetil.ipynb",
      "provenance": []
    },
    "kernelspec": {
      "display_name": "Python 3",
      "language": "python",
      "name": "python3"
    },
    "language_info": {
      "codemirror_mode": {
        "name": "ipython",
        "version": 3
      },
      "file_extension": ".py",
      "mimetype": "text/x-python",
      "name": "python",
      "nbconvert_exporter": "python",
      "pygments_lexer": "ipython3",
      "version": "3.9.5"
    },
    "vscode": {
      "interpreter": {
        "hash": "81794d4967e6c3204c66dcd87b604927b115b27c00565d3d43f05ba2f3a2cb0d"
      }
    }
  },
  "nbformat": 4,
  "nbformat_minor": 0
}
