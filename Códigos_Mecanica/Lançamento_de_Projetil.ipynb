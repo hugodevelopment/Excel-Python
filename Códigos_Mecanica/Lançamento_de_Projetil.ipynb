{
  "nbformat": 4,
  "nbformat_minor": 0,
  "metadata": {
    "colab": {
      "name": "Lançamento_de_Projetil.ipynb",
      "provenance": []
    },
    "kernelspec": {
      "name": "python3",
      "display_name": "Python 3"
    },
    "language_info": {
      "name": "python"
    }
  },
  "cells": [
    {
      "cell_type": "code",
      "execution_count": 36,
      "metadata": {
        "colab": {
          "base_uri": "https://localhost:8080/"
        },
        "id": "6CsW1bADm0X8",
        "outputId": "89837038-3eda-49f1-fa03-b1b39298d0bd"
      },
      "outputs": [
        {
          "output_type": "stream",
          "name": "stdout",
          "text": [
            "O tempo do lançamento horizontal é  1.08 s\n",
            "O alcance estimado para o angulo de 45º é 5.48 m\n",
            "Lista dos 10 alcances:  [8.36, 8.3, 8.365, 8.33, 8.34, 8.34, 8.34, 8.31, 8.383, 8.35]\n",
            "Média dos 10 alcances <A>:  8.34\n"
          ]
        }
      ],
      "source": [
        "import numpy as np\n",
        "\n",
        "def tempo(v,seno,g,h):\n",
        "  t = ((v*seno + np.sqrt(v**2*seno**2 + 2*g*h))/g)\n",
        "  return t\n",
        "\n",
        "v = 7.17\n",
        "h =0.25  \n",
        "seno = np.sin(np.radians(45))\n",
        "g = 9.79\n",
        "# Tem que ser a mesma ordem dos parametros\n",
        "t = np.round(tempo(v,seno,g,h),2)\n",
        "print(\"O tempo do lançamento horizontal é \",t,\"s\")\n",
        "  \n",
        "A = np.round(v*np.cos(np.radians(45))*t,2)\n",
        "print(\"O alcance estimado para o angulo de 45º é\",A,\"m\")\n",
        "\n",
        "# Calculando o alcance para o lançamento obliquo com 45º\n",
        "dados = [4.28,4.22,4.285,4.25,4.26,4.26,4.26,4.23,4.303,4.27]\n",
        "Lista_alcance = []\n",
        "distancia_total = 4.08\n",
        "for i in range(len(dados)):\n",
        "   alcance = (dados[i] + 4.08)\n",
        "   Lista_alcance.append(alcance)\n",
        "print(\"Lista dos 10 alcances: \",Lista_alcance)\n",
        "print(\"Média dos 10 alcances <A>: \",np.round(np.mean(Lista_alcance),2))   "
      ]
    }
  ]
}