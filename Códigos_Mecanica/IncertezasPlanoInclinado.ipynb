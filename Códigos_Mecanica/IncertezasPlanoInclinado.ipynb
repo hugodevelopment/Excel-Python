{
  "nbformat": 4,
  "nbformat_minor": 0,
  "metadata": {
    "colab": {
      "name": "IncertezasPlanoInclinado.ipynb",
      "provenance": [],
      "collapsed_sections": []
    },
    "kernelspec": {
      "name": "python3",
      "display_name": "Python 3"
    },
    "language_info": {
      "name": "python"
    }
  },
  "cells": [
    {
      "cell_type": "markdown",
      "source": [
        "A ideia do código é automatizar o calculo da incerteza da velocidade no python utilizando a seguinte equação:\n",
        "\n",
        "\n",
        "\\begin{equation}\n",
        " \\boxed{σ_{v} = v \\sqrt{\\left (\\dfrac{σ_{L}}{L} \\right)^2 + \\left (\\dfrac{ σ_{t}}{t} \\right)^2}} \n",
        "\\end{equation} \n",
        "\n",
        "Como a conta deve ser feita 10x, criar um algoritmo para automatizar é muito melhor que fazer na mão.\n",
        "\n",
        "Os passos são:\n",
        "\n",
        "* 1º Criar uma função para calcular a equação da **incerteza da velocidade**, nesta função teremos 3 parametros: **incerteza do tempo, tempo e velocidade média de cada deslocamento.** Esses valores variam de acordo com os valores dos deslocamentos;\n",
        "\n",
        "* 2º Criar outra função para percorrer a lista de dados com um for, assim o cálculo é feito automaticamente a partir da lista de dados. "
      ],
      "metadata": {
        "id": "bo-axFo8Xo7D"
      }
    },
    {
      "cell_type": "code",
      "source": [
        "import numpy as np\n",
        "\n",
        "# Criando as variáveis para utilizar na equação\n",
        "incertezaPlanador = 0.00005\n",
        "Planador = 0.097\n",
        "#  Variáveis para para calcular a incerteza do tempo\n",
        "instrumentalTempo = 0.0005\n",
        "resultadoTempo = 0.0\n",
        "ListaTempo = []\n",
        "ErroMediaTempo = [0.000085, 0.00024, 0.000077, 0.00012, 0.00019, 0.000081, 0.00012, 0.000054, 0.00012, 0.000012]\n",
        "\n",
        "def incertezaTempo(errodaMedia):\n",
        "  return(np.sqrt((errodaMedia)**2 + (instrumentalTempo)**2))\n",
        "\n",
        "def tempoLista():\n",
        "   for i in range(len(ErroMediaTempo)):\n",
        "     resultadoTempo = np.round(incertezaTempo(ErroMediaTempo[i]),6)\n",
        "     ListaTempo.append(resultadoTempo)\n",
        "\n",
        "#Começando o programa\n",
        "tempoLista()\n",
        "print(\"Incertezas do tempo:\", ListaTempo)\n",
        "print(\"Media das incertezas do tempo\", np.round(np.mean(ListaTempo),6), \"\\n\")\n",
        "\n",
        "# ----------------------------------------------------------------------------------------------------------------------------------------------------------------------------------------------------------#\n",
        "\n",
        "# Criando as variáveis para utilizar na equação\n",
        "incertezaPlanador = 0.00005\n",
        "Planador = 0.097\n",
        "listaDados = [[0.3897,0.000507,0.2488], [0.4478,0.000555,0.21658], [0.5020, 0.000506,0.1932],[0.55283,0.000514,0.01754], [0.59553,0.000535,0.16288], [0.63373,0.000507,0.15306], [0.673332,0.000514,0.14406],[0.71218,0.000503,0.1362], [0.74295,0.000514,0.13056],[0.77278,0.0005,0.12552]]\n",
        "resultadoIncerteza = []\n",
        "resultado = 0.0\n",
        "\n",
        "\n",
        "# Função para calcular a incerteza da velocidade com os paremetros de v, incertezaTempo e tempo que são os paremetros variaveis\n",
        "def incertezavelocidade(v,incertezaTempo,Tempo):\n",
        "  return(v*np.sqrt((incertezaPlanador/Planador)**2 + (incertezaTempo/Tempo)**2))\n",
        "\n",
        "# Função para percorrer a lista de dados e realizar os cálculos de acordo com os indices\n",
        "def percorreLista():\n",
        "   for i in range(len(listaDados)):\n",
        "        # a variável resultado recebe a função incertezvelocidade com a equação e percorre os dados da velocidade, incerteza do tempo e tempo  \n",
        "        resultado = np.round(incertezavelocidade(listaDados[i][0],listaDados[i][1],listaDados[i][2]),6) \n",
        "        # uma lista para armazenar o resultado da equação com um append\n",
        "        resultadoIncerteza.append(resultado)            \n",
        "\n",
        "# começando o programa\n",
        "percorreLista()\n",
        "\n",
        "# printando o resultado na tela\n",
        "print(\"As incertezas da velocidade para cada deslocamento:\", resultadoIncerteza)\n",
        "print(\"A média da incerteza de v :\", np.round(np.mean(resultadoIncerteza),6))"
      ],
      "metadata": {
        "colab": {
          "base_uri": "https://localhost:8080/"
        },
        "outputId": "1dd9431f-337a-4e32-c833-89f5546089e8",
        "id": "AiFdOKkhMLmx"
      },
      "execution_count": null,
      "outputs": [
        {
          "output_type": "stream",
          "name": "stdout",
          "text": [
            "Incertezas do tempo: [0.000507, 0.000555, 0.000506, 0.000514, 0.000535, 0.000507, 0.000514, 0.000503, 0.000514, 0.0005]\n",
            "Media das incertezas do tempo 0.000516 \n",
            "\n",
            "As incertezas da velocidade para cada deslocamento: [0.000819, 0.001171, 0.00134, 0.016203, 0.00198, 0.002124, 0.002427, 0.002656, 0.00295, 0.003104]\n",
            "A média da incerteza de v : 0.003477\n"
          ]
        }
      ]
    },
    {
      "cell_type": "code",
      "source": [
        "import numpy as np\n",
        "\n",
        "# Calculando a incerteza da aceleração\n",
        "\n",
        "\n",
        "erroS = 1 \n",
        "#Lista dados com 5 parametros\n",
        "listaDados = [[0.2532,0.3897,0.000819,0.30],[0.25074,0.44788, 0.001171, 0.40], [0.25207, 0.5020, 0.00134, 0.50], [0.2547, 0.55283, 0.016203, 0.60],[0.25333, 0.595533,0.00198, 0.70],[0.25101, 0.63373, 0.002124, 0.80],[0.25187, 0.67333, 0.002427, 0.90],[0.25360, 0.711218, 0.002656, 1],[0.25090, 0.7430, 0.00295, 1.10],[0.24883, 0.7727, 0.003104 , 1.20]]\n",
        "#Irá receber o cálculo da incerteza da aceleração, já que o resultado final retornar um numero \n",
        "resultado = 0.0\n",
        "#Irá receber a lista dos resultado da incerteza da aceleração, que serão ao todo 10 incertezas para os 10 deslocamentos\n",
        "ResultadoAceleraçao = []\n",
        "\n",
        "\n",
        "# Criando uma lista dentro de um for.\n",
        "# dados = [[0.3897,30], [0.4478,40], [0.3897,50], [0.5020,60], [0.55283, 70]]\n",
        "# aceleração = []\n",
        "# for i in range(len(dados)):\n",
        "#     a = (dados[i][0])**2/ 2*(dados[i][1])\n",
        "#     aceleração.append(a)\n",
        "# print(\"Acelração média\", aceleração)\n",
        "# print(\"Média de a:\", np.mean(aceleração))\n",
        "\n",
        "\n",
        "def incertezaAceleração(a,v,erroV,s):\n",
        "      return(a*np.sqrt((2*(erroV/v))**2 + (erroS/s)**2))\n",
        "\n",
        "\n",
        "def percorreLista():\n",
        "    for i in range(len(listaDados)):\n",
        "      resultado = np.round(incertezaAceleração(listaDados[i][0], listaDados[i][1], listaDados[i][2],listaDados[i][3]),6)\n",
        "      ResultadoAceleraçao.append(resultado)\n",
        "\n",
        "# def treinoLista():\n",
        "#   for i in range(len(listaDados)):\n",
        "#     for j in range(len(listaDados[0])):\n",
        "#       print(listaDados[i][j])\n",
        "\n",
        "def calculandoG(a,seno):\n",
        "  g = a/seno\n",
        "  return g \n",
        "\n",
        "a = 0.2520\n",
        "seno = 0.0255\n",
        "g = calculandoG(a,seno)\n",
        "print(\"o valor de g é:\", g) \n",
        "\n",
        "# def incertezaG(erroA,seno):\n",
        "#     erroG = erroA/seno\n",
        "#     return erroG\n",
        "\n",
        "# erroA = 0.4044\n",
        "# seno = 0.0255\n",
        "# erroG = incertezaG(erroA, seno)\n",
        "# print(\"O valor da incerteza de g é \", erroG)\n",
        "\n",
        "\n",
        "#-------------------- Calculando Incerteza de G ----------------------------------#\n",
        "def incertezaG(g,erroA,a,erroH,h):\n",
        "  erroG = g*np.sqrt((erroA/a)**2 + (erroH/h)**2)\n",
        "  return erroG \n",
        "\n",
        "g = 9.88\n",
        "erroA = 0.40\n",
        "a = 0.25\n",
        "erroH = 0.8\n",
        "h = 0.5\n",
        "\n",
        "erroG = incertezaG(g,erroA,a,erroH,h)\n",
        "print(\"A incerteza de g é:\", erroG)\n",
        "\n",
        "\n",
        "\n",
        "percorreLista()\n",
        "#treinoLista()\n",
        "\n",
        "print(\"As incertezas da aceleração:\",ResultadoAceleraçao)\n",
        "print(\"A média da incerteza de a :\", np.round(np.mean(ResultadoAceleraçao),6))    \n"
      ],
      "metadata": {
        "colab": {
          "base_uri": "https://localhost:8080/"
        },
        "id": "F4uYh54Cmlku",
        "outputId": "c281a4ed-f8ab-435f-ddad-73d3f6a25714"
      },
      "execution_count": 40,
      "outputs": [
        {
          "output_type": "stream",
          "name": "stdout",
          "text": [
            "o valor de g é: 9.882352941176471\n",
            "A incerteza de g é: 22.355887993993893\n",
            "As incertezas da aceleração: [0.844001, 0.626851, 0.504142, 0.424762, 0.361904, 0.313767, 0.279861, 0.253607, 0.2281, 0.207368]\n",
            "A média da incerteza de a : 0.404436\n"
          ]
        }
      ]
    }
  ]
}