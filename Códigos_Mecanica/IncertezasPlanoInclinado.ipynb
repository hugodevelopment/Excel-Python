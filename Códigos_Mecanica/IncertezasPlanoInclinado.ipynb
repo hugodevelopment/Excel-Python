{
  "nbformat": 4,
  "nbformat_minor": 0,
  "metadata": {
    "colab": {
      "name": "IncertezasPlanoInclinado.ipynb",
      "provenance": []
    },
    "kernelspec": {
      "name": "python3",
      "display_name": "Python 3"
    },
    "language_info": {
      "name": "python"
    }
  },
  "cells": [
    {
      "cell_type": "markdown",
      "source": [
        "A ideia do código é automatizar o calculo da incerteza da velocidade no python utilizando a seguinte equação:\n",
        "\n",
        "\n",
        "\\begin{equation}\n",
        " \\boxed{σ_{v} = v \\sqrt{\\left (\\dfrac{σ_{L}}{L} \\right)^2 + \\left (\\dfrac{ σ_{t}}{t} \\right)^2}} \n",
        "\\end{equation} \n",
        "\n",
        "Como a conta deve ser feita 10x, criar um algoritmo para automatizar é muito melhor que fazer na mão.\n",
        "\n",
        "Os passos são:\n",
        "\n",
        "* 1º Criar uma função para calcular a equação da **incerteza da velocidade**, nesta função teremos 3 parametros: **incerteza do tempo, tempo e velocidade média de cada deslocamento.** Esses valores variam de acordo com os valores dos deslocamentos;\n",
        "\n",
        "* 2º Criar outra função para percorrer a lista de dados com um for, assim o cálculo é feito automaticamente a partir da lista de dados. "
      ],
      "metadata": {
        "id": "bo-axFo8Xo7D"
      }
    },
    {
      "cell_type": "code",
      "source": [
        "import numpy as np\n",
        "\n",
        "# Criando as variáveis para utilizar na equação\n",
        "incertezaPlanador = 0.00005\n",
        "Planador = 0.097\n",
        "\n",
        "instrumentalTempo = 0.0005\n",
        "resultadoTempo = 0.0\n",
        "ListaTempo = []\n",
        "\n",
        "TempoValores = [0.000085, 0.00024, 0.000077, 0.00012, 0.00019, 0.000081, 0.000054, 0.00012, 0.000012]\n",
        "\n",
        "listaDados = [[0.38,0.10,0.24], [0.44,0.11,0.21]]\n",
        "resultadoIncerteza = []\n",
        "resultado = 0.0\n",
        "\n",
        "def incertezaTempo(errodaMedia):\n",
        "  return(np.sqrt((errodaMedia)**2 + (instrumentalTempo)**2))\n",
        "\n",
        "def tempoLista():\n",
        "   for i in range(len(TempoValores)):\n",
        "     resultadoTempo = incertezaTempo(TempoValores[i])\n",
        "     ListaTempo.append(resultadoTempo)\n",
        "\n",
        "tempoLista()\n",
        "\n",
        "print(ListaTempo)\n",
        "\n",
        "# Função para calcular a incerteza da velocidade com os paremetros de v, incertezaTempo e tempo que são os paremetros variaveis\n",
        "def incertezavelocidade(v,incertezaTempo,Tempo):\n",
        "  return(v*np.sqrt((incertezaPlanador/Planador)**2 + (incertezaTempo/Tempo)**2))\n",
        "\n",
        "# Função para percorrer a lista de dados e realizar os cálculos de acordo com os indices\n",
        "def percorreLista():\n",
        "   for i in range(len(listaDados)):\n",
        "        # a variável resultado recebe a função incertezvelocidade com a equação e percorre os dados da velocidade, incerteza do tempo e tempo  \n",
        "        resultado = incertezavelocidade(listaDados[i][0],listaDados[i][1],listaDados[i][2]) \n",
        "        # uma lista para armazenar o resultado da equação com um append\n",
        "        resultadoIncerteza.append(resultado)            \n",
        "\n",
        "# começando o programa\n",
        "percorreLista()\n",
        "\n",
        "# printando o resultado na tela\n",
        "print(\"As incertezas da velocidade para cada deslocamento:\", resultadoIncerteza)"
      ],
      "metadata": {
        "colab": {
          "base_uri": "https://localhost:8080/"
        },
        "id": "I0w3hLQEX10h",
        "outputId": "d73295de-5ce4-496a-d345-b99d24cb6a7d"
      },
      "execution_count": 6,
      "outputs": [
        {
          "output_type": "stream",
          "name": "stdout",
          "text": [
            "[0.0005071735403192876, 0.0005546169849544819, 0.0005058942577258612, 0.0005141984052872976, 0.0005348831648126533, 0.0005065185090398968, 0.0005029075461752389, 0.0005141984052872976, 0.0005001439792699698]\n",
            "As incertezas da velocidade para cada deslocamento: [0.15833345449387792, 0.2304763020714446]\n"
          ]
        }
      ]
    },
    {
      "cell_type": "code",
      "source": [
        "import numpy as np\n",
        "\n",
        "# Calculando a incerteza da aceleração\n",
        "\n",
        "erroS = 1 \n",
        "#Lista dados com 5 parametros\n",
        "listaDados = [[0.23,0.55,0.67,0.71,1],[0.20,0.45,0.37,0.61,3]]\n",
        "#Irá receber o cálculo da incerteza da aceleração, já que o resultado final retornar um numero \n",
        "resultado = 0.0\n",
        "#Irá receber a lista dos resultado da incerteza da aceleração, que serão ao todo 10 incertezas para os 10 deslocamentos\n",
        "ResultadoIncerteza = []\n",
        "\n",
        "def incertezaAceleração(a,v,erroV,s,erroS):\n",
        "      return(a*np.sqrt((2*(erroV/v))**2 + (erroS/s)**2))\n",
        "\n",
        "\n",
        "def percorreLista():\n",
        "    for i in range(len(listaDados)):\n",
        "      resultado = incertezaAceleração(listaDados[i][0], listaDados[i][1], listaDados[i][2],listaDados[i][3],listaDados[i][4])\n",
        "      ResultadoIncerteza.append(resultado)\n",
        "\n",
        "def treinoLista():\n",
        "  for i in range(len(listaDados)):\n",
        "    for j in range(len(listaDados[0])):\n",
        "      print(listaDados[i][j])\n",
        "             \n",
        "\n",
        "percorreLista()\n",
        "treinoLista()\n",
        "\n",
        "print(ResultadoIncerteza)    \n"
      ],
      "metadata": {
        "colab": {
          "base_uri": "https://localhost:8080/"
        },
        "id": "F4uYh54Cmlku",
        "outputId": "070c4b3a-4a45-4afc-da41-cd5e59b8224c"
      },
      "execution_count": null,
      "outputs": [
        {
          "output_type": "stream",
          "name": "stdout",
          "text": [
            "0.23\n",
            "0.55\n",
            "0.67\n",
            "0.71\n",
            "1\n",
            "0.2\n",
            "0.45\n",
            "0.37\n",
            "0.61\n",
            "3\n",
            "[0.32363053822623017, 0.5185676814432466]\n",
            "-26\n"
          ]
        }
      ]
    }
  ]
}