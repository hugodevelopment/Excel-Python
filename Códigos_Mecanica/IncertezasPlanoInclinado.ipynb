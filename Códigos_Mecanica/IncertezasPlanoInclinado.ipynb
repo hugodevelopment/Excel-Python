{
  "nbformat": 4,
  "nbformat_minor": 0,
  "metadata": {
    "colab": {
      "name": "IncertezasPlanoInclinado.ipynb",
      "provenance": [],
      "collapsed_sections": []
    },
    "kernelspec": {
      "name": "python3",
      "display_name": "Python 3"
    },
    "language_info": {
      "name": "python"
    }
  },
  "cells": [
    {
      "cell_type": "markdown",
      "source": [
        "A ideia do código é automatizar o calculo da incerteza da velocidade no python utilizando a seguinte equação:\n",
        "\n",
        "\n",
        "\\begin{equation}\n",
        " \\boxed{σ_{v} = v \\sqrt{\\left (\\dfrac{σ_{L}}{L} \\right)^2 + \\left (\\dfrac{ σ_{t}}{t} \\right)^2}} \n",
        "\\end{equation} \n",
        "\n",
        "Como a conta deve ser feita 10x, criar um algoritmo para automatizar é muito melhor que fazer na mão.\n",
        "\n",
        "Os passos são:\n",
        "\n",
        "* 1º Criar uma função para calcular a equação da **incerteza da velocidade**, nesta função teremos 3 parametros: **incerteza do tempo, tempo e velocidade média de cada deslocamento.** Esses valores variam de acordo com os valores dos deslocamentos;\n",
        "\n",
        "* 2º Criar outra função para percorrer a lista de dados com um for, assim o cálculo é feito automaticamente a partir da lista de dados. "
      ],
      "metadata": {
        "id": "bo-axFo8Xo7D"
      }
    },
    {
      "cell_type": "code",
      "source": [
        "import numpy as np\n",
        "\n",
        "# Criando as variáveis para utilizar na equação\n",
        "incertezaPlanador = 0.00005\n",
        "Planador = 0.097\n",
        "#  Variáveis para para calcular a incerteza do tempo\n",
        "instrumentalTempo = 0.0005\n",
        "resultadoTempo = 0.0\n",
        "ListaTempo = []\n",
        "ErroMediaTempo = [0.000085, 0.00024, 0.000077, 0.00012, 0.00019, 0.000081, 0.00012, 0.000054, 0.00012, 0.000012]\n",
        "\n",
        "def incertezaTempo(errodaMedia):\n",
        "  return(np.sqrt((errodaMedia)**2 + (instrumentalTempo)**2))\n",
        "\n",
        "def tempoLista():\n",
        "   for i in range(len(ErroMediaTempo)):\n",
        "     resultadoTempo = np.round(incertezaTempo(ErroMediaTempo[i]),6)\n",
        "     ListaTempo.append(resultadoTempo)\n",
        "\n",
        "#Começando o programa\n",
        "tempoLista()\n",
        "print(\"Incertezas do tempo:\", ListaTempo)\n",
        "\n",
        "# ----------------------------------------------------------------------------------------------------------------------------------------------------------------------------------------------------------#\n",
        "\n",
        "# Criando as variáveis para utilizar na equação\n",
        "incertezaPlanador = 0.00005\n",
        "Planador = 0.097\n",
        "listaDados = [[0.3897,0.000507,0.2488], [0.4478,0.000555,0.21658], [0.5020, 0.000506,0.1932],[0.55283,0.000514,0.01754], [0.59553,0.000535,0.16288], [0.63373,0.000507,0.15306], [0.673332,0.000514,0.14406],[0.71218,0.000503,0.1362], [0.74295,]]\n",
        "resultadoIncerteza = []\n",
        "resultado = 0.0\n",
        "\n",
        "\n",
        "# Função para calcular a incerteza da velocidade com os paremetros de v, incertezaTempo e tempo que são os paremetros variaveis\n",
        "def incertezavelocidade(v,incertezaTempo,Tempo):\n",
        "  return(v*np.sqrt((incertezaPlanador/Planador)**2 + (incertezaTempo/Tempo)**2))\n",
        "\n",
        "# Função para percorrer a lista de dados e realizar os cálculos de acordo com os indices\n",
        "def percorreLista():\n",
        "   for i in range(len(listaDados)):\n",
        "        # a variável resultado recebe a função incertezvelocidade com a equação e percorre os dados da velocidade, incerteza do tempo e tempo  \n",
        "        resultado = np.round(incertezavelocidade(listaDados[i][0],listaDados[i][1],listaDados[i][2]),6) \n",
        "        # uma lista para armazenar o resultado da equação com um append\n",
        "        resultadoIncerteza.append(resultado)            \n",
        "\n",
        "# começando o programa\n",
        "percorreLista()\n",
        "\n",
        "# printando o resultado na tela\n",
        "print(\"As incertezas da velocidade para cada deslocamento:\", resultadoIncerteza)"
      ],
      "metadata": {
        "colab": {
          "base_uri": "https://localhost:8080/"
        },
        "outputId": "92256b2a-8862-49b8-8adb-786df24c72ae",
        "id": "IDb7EtLODhGf"
      },
      "execution_count": null,
      "outputs": [
        {
          "output_type": "stream",
          "name": "stdout",
          "text": [
            "Incertezas do tempo: [0.000507, 0.000555, 0.000506, 0.000514, 0.000535, 0.000507, 0.000514, 0.000503, 0.000514, 0.0005]\n",
            "As incertezas da velocidade para cada deslocamento: [0.000819, 0.001171, 0.00134]\n"
          ]
        }
      ]
    },
    {
      "cell_type": "code",
      "source": [
        "import numpy as np\n",
        "\n",
        "# Criando as variáveis para utilizar na equação\n",
        "incertezaPlanador = 0.00005\n",
        "Planador = 0.097\n",
        "#  Variáveis para para calcular a incerteza do tempo\n",
        "instrumentalTempo = 0.0005\n",
        "resultadoTempo = 0.0\n",
        "ListaTempo = []\n",
        "ErroMediaTempo = [0.000085, 0.00024, 0.000077, 0.00012, 0.00019, 0.000081, 0.00012, 0.000054, 0.00012, 0.000012]\n",
        "\n",
        "def incertezaTempo(errodaMedia):\n",
        "  return(np.sqrt((errodaMedia)**2 + (instrumentalTempo)**2))\n",
        "\n",
        "def tempoLista():\n",
        "   for i in range(len(ErroMediaTempo)):\n",
        "     resultadoTempo = np.round(incertezaTempo(ErroMediaTempo[i]),6)\n",
        "     ListaTempo.append(resultadoTempo)\n",
        "\n",
        "#Começando o programa\n",
        "tempoLista()\n",
        "print(\"Incertezas do tempo:\", ListaTempo)\n",
        "\n",
        "# ----------------------------------------------------------------------------------------------------------------------------------------------------------------------------------------------------------#\n",
        "\n",
        "# Criando as variáveis para utilizar na equação\n",
        "incertezaPlanador = 0.00005\n",
        "Planador = 0.097\n",
        "listaDados = [[0.3897,0.000507,0.2488], [0.4478,0.000555,0.21658], [0.5020, 0.000506,0.1932],[0.55283,0.000514,0.01754], [0.59553,0.000535,0.16288], [0.63373,0.000507,0.15306], [0.673332,0.000514,0.14406],[0.71218,0.000503,0.1362], [0.74295,]]\n",
        "resultadoIncerteza = []\n",
        "resultado = 0.0\n",
        "\n",
        "\n",
        "# Função para calcular a incerteza da velocidade com os paremetros de v, incertezaTempo e tempo que são os paremetros variaveis\n",
        "def incertezavelocidade(v,incertezaTempo,Tempo):\n",
        "  return(v*np.sqrt((incertezaPlanador/Planador)**2 + (incertezaTempo/Tempo)**2))\n",
        "\n",
        "# Função para percorrer a lista de dados e realizar os cálculos de acordo com os indices\n",
        "def percorreLista():\n",
        "   for i in range(len(listaDados)):\n",
        "        # a variável resultado recebe a função incertezvelocidade com a equação e percorre os dados da velocidade, incerteza do tempo e tempo  \n",
        "        resultado = np.round(incertezavelocidade(listaDados[i][0],listaDados[i][1],listaDados[i][2]),6) \n",
        "        # uma lista para armazenar o resultado da equação com um append\n",
        "        resultadoIncerteza.append(resultado)            \n",
        "\n",
        "# começando o programa\n",
        "percorreLista()\n",
        "\n",
        "# printando o resultado na tela\n",
        "print(\"As incertezas da velocidade para cada deslocamento:\", resultadoIncerteza)"
      ],
      "metadata": {
        "colab": {
          "base_uri": "https://localhost:8080/"
        },
        "outputId": "92256b2a-8862-49b8-8adb-786df24c72ae",
        "id": "iwcvky0vL6JB"
      },
      "execution_count": null,
      "outputs": [
        {
          "output_type": "stream",
          "name": "stdout",
          "text": [
            "Incertezas do tempo: [0.000507, 0.000555, 0.000506, 0.000514, 0.000535, 0.000507, 0.000514, 0.000503, 0.000514, 0.0005]\n",
            "As incertezas da velocidade para cada deslocamento: [0.000819, 0.001171, 0.00134]\n"
          ]
        }
      ]
    },
    {
      "cell_type": "code",
      "source": [
        "import numpy as np\n",
        "\n",
        "# Criando as variáveis para utilizar na equação\n",
        "incertezaPlanador = 0.00005\n",
        "Planador = 0.097\n",
        "#  Variáveis para para calcular a incerteza do tempo\n",
        "instrumentalTempo = 0.0005\n",
        "resultadoTempo = 0.0\n",
        "ListaTempo = []\n",
        "ErroMediaTempo = [0.000085, 0.00024, 0.000077, 0.00012, 0.00019, 0.000081, 0.00012, 0.000054, 0.00012, 0.000012]\n",
        "\n",
        "def incertezaTempo(errodaMedia):\n",
        "  return(np.sqrt((errodaMedia)**2 + (instrumentalTempo)**2))\n",
        "\n",
        "def tempoLista():\n",
        "   for i in range(len(ErroMediaTempo)):\n",
        "     resultadoTempo = np.round(incertezaTempo(ErroMediaTempo[i]),6)\n",
        "     ListaTempo.append(resultadoTempo)\n",
        "\n",
        "#Começando o programa\n",
        "tempoLista()\n",
        "print(\"Incertezas do tempo:\", ListaTempo)\n",
        "\n",
        "# ----------------------------------------------------------------------------------------------------------------------------------------------------------------------------------------------------------#\n",
        "\n",
        "# Criando as variáveis para utilizar na equação\n",
        "incertezaPlanador = 0.00005\n",
        "Planador = 0.097\n",
        "listaDados = [[0.3897,0.000507,0.2488], [0.4478,0.000555,0.21658], [0.5020, 0.000506,0.1932],[0.55283,0.000514,0.01754], [0.59553,0.000535,0.16288], [0.63373,0.000507,0.15306], [0.673332,0.000514,0.14406],[0.71218,0.000503,0.1362], [0.74295,]]\n",
        "resultadoIncerteza = []\n",
        "resultado = 0.0\n",
        "\n",
        "\n",
        "# Função para calcular a incerteza da velocidade com os paremetros de v, incertezaTempo e tempo que são os paremetros variaveis\n",
        "def incertezavelocidade(v,incertezaTempo,Tempo):\n",
        "  return(v*np.sqrt((incertezaPlanador/Planador)**2 + (incertezaTempo/Tempo)**2))\n",
        "\n",
        "# Função para percorrer a lista de dados e realizar os cálculos de acordo com os indices\n",
        "def percorreLista():\n",
        "   for i in range(len(listaDados)):\n",
        "        # a variável resultado recebe a função incertezvelocidade com a equação e percorre os dados da velocidade, incerteza do tempo e tempo  \n",
        "        resultado = np.round(incertezavelocidade(listaDados[i][0],listaDados[i][1],listaDados[i][2]),6) \n",
        "        # uma lista para armazenar o resultado da equação com um append\n",
        "        resultadoIncerteza.append(resultado)            \n",
        "\n",
        "# começando o programa\n",
        "percorreLista()\n",
        "\n",
        "# printando o resultado na tela\n",
        "print(\"As incertezas da velocidade para cada deslocamento:\", resultadoIncerteza)"
      ],
      "metadata": {
        "colab": {
          "base_uri": "https://localhost:8080/"
        },
        "outputId": "92256b2a-8862-49b8-8adb-786df24c72ae",
        "id": "BgAifaQPMC5g"
      },
      "execution_count": null,
      "outputs": [
        {
          "output_type": "stream",
          "name": "stdout",
          "text": [
            "Incertezas do tempo: [0.000507, 0.000555, 0.000506, 0.000514, 0.000535, 0.000507, 0.000514, 0.000503, 0.000514, 0.0005]\n",
            "As incertezas da velocidade para cada deslocamento: [0.000819, 0.001171, 0.00134]\n"
          ]
        }
      ]
    },
    {
      "cell_type": "code",
      "source": [
        "import numpy as np\n",
        "\n",
        "# Criando as variáveis para utilizar na equação\n",
        "incertezaPlanador = 0.00005\n",
        "Planador = 0.097\n",
        "#  Variáveis para para calcular a incerteza do tempo\n",
        "instrumentalTempo = 0.0005\n",
        "resultadoTempo = 0.0\n",
        "ListaTempo = []\n",
        "ErroMediaTempo = [0.000085, 0.00024, 0.000077, 0.00012, 0.00019, 0.000081, 0.00012, 0.000054, 0.00012, 0.000012]\n",
        "\n",
        "def incertezaTempo(errodaMedia):\n",
        "  return(np.sqrt((errodaMedia)**2 + (instrumentalTempo)**2))\n",
        "\n",
        "def tempoLista():\n",
        "   for i in range(len(ErroMediaTempo)):\n",
        "     resultadoTempo = np.round(incertezaTempo(ErroMediaTempo[i]),6)\n",
        "     ListaTempo.append(resultadoTempo)\n",
        "\n",
        "#Começando o programa\n",
        "tempoLista()\n",
        "print(\"Incertezas do tempo:\", ListaTempo)\n",
        "\n",
        "# ----------------------------------------------------------------------------------------------------------------------------------------------------------------------------------------------------------#\n",
        "\n",
        "# Criando as variáveis para utilizar na equação\n",
        "incertezaPlanador = 0.00005\n",
        "Planador = 0.097\n",
        "listaDados = [[0.3897,0.000507,0.2488], [0.4478,0.000555,0.21658], [0.5020, 0.000506,0.1932],[0.55283,0.000514,0.01754], [0.59553,0.000535,0.16288], [0.63373,0.000507,0.15306], [0.673332,0.000514,0.14406],[0.71218,0.000503,0.1362], [0.74295,0.000514,0.13056],[0.77278,0.0005,0.12552]]\n",
        "resultadoIncerteza = []\n",
        "resultado = 0.0\n",
        "\n",
        "\n",
        "# Função para calcular a incerteza da velocidade com os paremetros de v, incertezaTempo e tempo que são os paremetros variaveis\n",
        "def incertezavelocidade(v,incertezaTempo,Tempo):\n",
        "  return(v*np.sqrt((incertezaPlanador/Planador)**2 + (incertezaTempo/Tempo)**2))\n",
        "\n",
        "# Função para percorrer a lista de dados e realizar os cálculos de acordo com os indices\n",
        "def percorreLista():\n",
        "   for i in range(len(listaDados)):\n",
        "        # a variável resultado recebe a função incertezvelocidade com a equação e percorre os dados da velocidade, incerteza do tempo e tempo  \n",
        "        resultado = np.round(incertezavelocidade(listaDados[i][0],listaDados[i][1],listaDados[i][2]),6) \n",
        "        # uma lista para armazenar o resultado da equação com um append\n",
        "        resultadoIncerteza.append(resultado)            \n",
        "\n",
        "# começando o programa\n",
        "percorreLista()\n",
        "\n",
        "# printando o resultado na tela\n",
        "print(\"As incertezas da velocidade para cada deslocamento:\", resultadoIncerteza)"
      ],
      "metadata": {
        "colab": {
          "base_uri": "https://localhost:8080/"
        },
        "outputId": "aed0897b-b23f-4053-9da2-9344fe2f2025",
        "id": "AiFdOKkhMLmx"
      },
      "execution_count": 23,
      "outputs": [
        {
          "output_type": "stream",
          "name": "stdout",
          "text": [
            "Incertezas do tempo: [0.000507, 0.000555, 0.000506, 0.000514, 0.000535, 0.000507, 0.000514, 0.000503, 0.000514, 0.0005]\n",
            "Acelração média [2.2779913499999997, 4.010496799999999, 3.7966522499999997, 7.56012, 10.696735311500001]\n",
            "Média de a: 5.668399142299999\n",
            "As incertezas da velocidade para cada deslocamento: [0.000819, 0.001171, 0.00134, 0.016203, 0.00198, 0.002124, 0.002427, 0.002656, 0.00295, 0.003104]\n"
          ]
        }
      ]
    },
    {
      "cell_type": "code",
      "source": [
        "import numpy as np\n",
        "\n",
        "# Calculando a incerteza da aceleração\n",
        "\n",
        "a = 5.67\n",
        "erroS = 1 \n",
        "#Lista dados com 5 parametros\n",
        "listaDados = [[0.23,0.55,0.67],[0.20,0.45,0.37,0.61,3]]\n",
        "#Irá receber o cálculo da incerteza da aceleração, já que o resultado final retornar um numero \n",
        "resultado = 0.0\n",
        "#Irá receber a lista dos resultado da incerteza da aceleração, que serão ao todo 10 incertezas para os 10 deslocamentos\n",
        "ResultadoIncerteza = []\n",
        "\n",
        "\n",
        "# Criando uma lista dentro de um for.\n",
        "dados = [[0.3897,30], [0.4478,40], [0.3897,50], [0.5020,60], [0.55283, 70]]\n",
        "aceleração = []\n",
        "for i in range(len(dados)):\n",
        "    a = (dados[i][0])**2/ 2*(dados[i][1])\n",
        "    aceleração.append(a)\n",
        "print(\"Acelração média\", aceleração)\n",
        "print(\"Média de a:\", np.mean(aceleração))\n",
        "\n",
        "\n",
        "def incertezaAceleração(a,v,erroV,s,erroS):\n",
        "      return(a*np.sqrt((2*(erroV/v))**2 + (erroS/s)**2))\n",
        "\n",
        "\n",
        "def percorreLista():\n",
        "    for i in range(len(listaDados)):\n",
        "      resultado = incertezaAceleração(listaDados[i][0], listaDados[i][1], listaDados[i][2])\n",
        "      ResultadoIncerteza.append(resultado)\n",
        "\n",
        "# def treinoLista():\n",
        "#   for i in range(len(listaDados)):\n",
        "#     for j in range(len(listaDados[0])):\n",
        "#       print(listaDados[i][j])\n",
        "             \n",
        "\n",
        "percorreLista()\n",
        "#treinoLista()\n",
        "\n",
        "print(ResultadoIncerteza)    \n"
      ],
      "metadata": {
        "colab": {
          "base_uri": "https://localhost:8080/"
        },
        "id": "F4uYh54Cmlku",
        "outputId": "5ce2fbdc-45b6-46c3-b592-93507d309a96"
      },
      "execution_count": 25,
      "outputs": [
        {
          "output_type": "stream",
          "name": "stdout",
          "text": [
            "Acelração média [2.2779913499999997, 4.010496799999999, 3.7966522499999997, 7.56012, 10.696735311500001]\n",
            "Média de a: 5.668399142299999\n",
            "0.23\n",
            "0.55\n",
            "0.67\n",
            "0.71\n",
            "1\n",
            "0.2\n",
            "0.45\n",
            "0.37\n",
            "0.61\n",
            "3\n",
            "[0.6472610764524603, 1.0371353628864932]\n"
          ]
        }
      ]
    }
  ]
}