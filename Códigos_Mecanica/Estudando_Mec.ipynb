{
  "nbformat": 4,
  "nbformat_minor": 0,
  "metadata": {
    "colab": {
      "name": "Estudando_Mec.ipynb",
      "provenance": []
    },
    "kernelspec": {
      "name": "python3",
      "display_name": "Python 3"
    },
    "language_info": {
      "name": "python"
    }
  },
  "cells": [
    {
      "cell_type": "code",
      "source": [
        "#Calculando  as velocidades finais de dois blocos em colisões colisões elástica\n",
        "def velocidadebloco1(Ma,Mb,Vai,Vbi):\n",
        "    Vaf = ((Ma - Mb) /(Ma + Mb))*Vai + ((2*Mb)/(Ma + Mb))*Vbi\n",
        "    return Vaf\n",
        "print(velocidadebloco1(4,2,6,3))"
      ],
      "metadata": {
        "colab": {
          "base_uri": "https://localhost:8080/"
        },
        "id": "vgETASpmbSN6",
        "outputId": "cd30a162-ddf9-46ff-b88f-9ce6343c2fe2"
      },
      "execution_count": null,
      "outputs": [
        {
          "output_type": "stream",
          "name": "stdout",
          "text": [
            "4.0\n"
          ]
        }
      ]
    },
    {
      "cell_type": "code",
      "source": [
        "#Calculando  as velocidades finais de dois blocos em colisões colisões elástica\n",
        "def velocidadebloco2(Ma,Mb,Vai,Vbi):\n",
        "    Vbf = ((2*Ma)/(Ma + Mb))*Vai + ((Mb- Ma)/(Ma + Mb))*Vbi\n",
        "    return Vbf\n",
        "print(velocidadebloco2(4,2,6,3))"
      ],
      "metadata": {
        "colab": {
          "base_uri": "https://localhost:8080/"
        },
        "outputId": "b227d093-f2ed-45ad-eb85-622e5a993e2c",
        "id": "h6MVJfXPfkb7"
      },
      "execution_count": null,
      "outputs": [
        {
          "output_type": "stream",
          "name": "stdout",
          "text": [
            "7.0\n"
          ]
        }
      ]
    },
    {
      "cell_type": "code",
      "source": [
        "#Calculando  as velocidades finais de dois blocos em colisões colisões elástica\n",
        "def velocidadefinal(M1,V1,M2,V2):\n",
        "    Vfinal = ((M1 * V1) + (M2 * V2))/(M1 + M2)\n",
        "    return Vfinal\n",
        "print(velocidadefinal(2,5,3,2))"
      ],
      "metadata": {
        "colab": {
          "base_uri": "https://localhost:8080/"
        },
        "outputId": "cff59f47-8444-4550-a294-14ac5cbf9521",
        "id": "IalwMmLTkB_n"
      },
      "execution_count": null,
      "outputs": [
        {
          "output_type": "stream",
          "name": "stdout",
          "text": [
            "3.2\n"
          ]
        }
      ]
    }
  ]
}