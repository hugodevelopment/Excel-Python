{
  "cells": [
    {
      "cell_type": "code",
      "execution_count": 4,
      "metadata": {
        "id": "7Z_cx-RY1I79"
      },
      "outputs": [
        {
          "name": "stdout",
          "output_type": "stream",
          "text": [
            "Collecting nbconvert\n",
            "  Downloading nbconvert-7.2.3-py3-none-any.whl (273 kB)\n",
            "Collecting beautifulsoup4\n",
            "  Downloading beautifulsoup4-4.11.1-py3-none-any.whl (128 kB)\n",
            "Collecting mistune<3,>=2.0.3\n",
            "  Downloading mistune-2.0.4-py2.py3-none-any.whl (24 kB)\n",
            "Collecting nbclient>=0.5.0\n",
            "  Downloading nbclient-0.7.0-py3-none-any.whl (71 kB)\n",
            "Collecting pandocfilters>=1.4.1\n",
            "  Downloading pandocfilters-1.5.0-py2.py3-none-any.whl (8.7 kB)\n",
            "Collecting jupyterlab-pygments\n",
            "  Downloading jupyterlab_pygments-0.2.2-py2.py3-none-any.whl (21 kB)\n",
            "Requirement already satisfied: pygments>=2.4.1 in c:\\python39\\lib\\site-packages (from nbconvert) (2.12.0)\n",
            "Collecting tinycss2\n",
            "  Downloading tinycss2-1.2.1-py3-none-any.whl (21 kB)\n",
            "Requirement already satisfied: packaging in c:\\users\\t-gamer\\appdata\\roaming\\python\\python39\\site-packages (from nbconvert) (21.0)\n",
            "Collecting jinja2>=3.0\n",
            "  Downloading Jinja2-3.1.2-py3-none-any.whl (133 kB)\n",
            "Collecting bleach\n",
            "  Downloading bleach-5.0.1-py3-none-any.whl (160 kB)\n",
            "Collecting importlib-metadata>=3.6\n",
            "  Downloading importlib_metadata-5.0.0-py3-none-any.whl (21 kB)\n",
            "Collecting markupsafe>=2.0\n",
            "  Downloading MarkupSafe-2.1.1-cp39-cp39-win_amd64.whl (17 kB)\n",
            "Requirement already satisfied: traitlets>=5.0 in c:\\python39\\lib\\site-packages (from nbconvert) (5.2.2.post1)\n",
            "Collecting defusedxml\n",
            "  Downloading defusedxml-0.7.1-py2.py3-none-any.whl (25 kB)\n",
            "Requirement already satisfied: jupyter-core>=4.7 in c:\\python39\\lib\\site-packages (from nbconvert) (4.10.0)\n",
            "Collecting nbformat>=5.1\n",
            "  Downloading nbformat-5.7.0-py3-none-any.whl (77 kB)\n",
            "Collecting zipp>=0.5\n",
            "  Downloading zipp-3.10.0-py3-none-any.whl (6.2 kB)\n",
            "Requirement already satisfied: pywin32>=1.0 in c:\\python39\\lib\\site-packages (from jupyter-core>=4.7->nbconvert) (304)\n",
            "Requirement already satisfied: jupyter-client>=6.1.5 in c:\\python39\\lib\\site-packages (from nbclient>=0.5.0->nbconvert) (7.3.4)\n",
            "Requirement already satisfied: nest-asyncio in c:\\python39\\lib\\site-packages (from nbclient>=0.5.0->nbconvert) (1.5.5)\n",
            "Requirement already satisfied: entrypoints in c:\\python39\\lib\\site-packages (from jupyter-client>=6.1.5->nbclient>=0.5.0->nbconvert) (0.4)\n",
            "Requirement already satisfied: tornado>=6.0 in c:\\python39\\lib\\site-packages (from jupyter-client>=6.1.5->nbclient>=0.5.0->nbconvert) (6.1)\n",
            "Requirement already satisfied: python-dateutil>=2.8.2 in c:\\python39\\lib\\site-packages (from jupyter-client>=6.1.5->nbclient>=0.5.0->nbconvert) (2.8.2)\n",
            "Requirement already satisfied: pyzmq>=23.0 in c:\\python39\\lib\\site-packages (from jupyter-client>=6.1.5->nbclient>=0.5.0->nbconvert) (23.1.0)\n",
            "Collecting jsonschema>=2.6\n",
            "  Downloading jsonschema-4.17.0-py3-none-any.whl (83 kB)\n",
            "Collecting fastjsonschema\n",
            "  Downloading fastjsonschema-2.16.2-py3-none-any.whl (22 kB)\n",
            "Requirement already satisfied: attrs>=17.4.0 in c:\\users\\t-gamer\\appdata\\roaming\\python\\python39\\site-packages (from jsonschema>=2.6->nbformat>=5.1->nbconvert) (21.2.0)\n",
            "Collecting pyrsistent!=0.17.0,!=0.17.1,!=0.17.2,>=0.14.0\n",
            "  Downloading pyrsistent-0.19.2-cp39-cp39-win_amd64.whl (62 kB)\n",
            "Requirement already satisfied: six>=1.5 in c:\\python39\\lib\\site-packages (from python-dateutil>=2.8.2->jupyter-client>=6.1.5->nbclient>=0.5.0->nbconvert) (1.16.0)\n",
            "Collecting soupsieve>1.2\n",
            "  Downloading soupsieve-2.3.2.post1-py3-none-any.whl (37 kB)\n",
            "Collecting webencodings\n",
            "  Downloading webencodings-0.5.1-py2.py3-none-any.whl (11 kB)\n",
            "Requirement already satisfied: pyparsing>=2.0.2 in c:\\python39\\lib\\site-packages (from packaging->nbconvert) (2.4.7)\n",
            "Installing collected packages: pyrsistent, jsonschema, fastjsonschema, zipp, webencodings, soupsieve, nbformat, markupsafe, tinycss2, pandocfilters, nbclient, mistune, jupyterlab-pygments, jinja2, importlib-metadata, defusedxml, bleach, beautifulsoup4, nbconvert\n"
          ]
        },
        {
          "name": "stderr",
          "output_type": "stream",
          "text": [
            "WARNING: Retrying (Retry(total=4, connect=None, read=None, redirect=None, status=None)) after connection broken by 'ReadTimeoutError(\"HTTPSConnectionPool(host='pypi.org', port=443): Read timed out. (read timeout=15)\")': /simple/nbconvert/\n",
            "  WARNING: Failed to write executable - trying to use .deleteme logic\n",
            "ERROR: Could not install packages due to an OSError: [WinError 2] O sistema não pode encontrar o arquivo especificado: 'c:\\\\python39\\\\Scripts\\\\jsonschema.exe' -> 'c:\\\\python39\\\\Scripts\\\\jsonschema.exe.deleteme'\n",
            "\n",
            "WARNING: You are using pip version 21.1.3; however, version 22.3 is available.\n",
            "You should consider upgrading via the 'c:\\python39\\python.exe -m pip install --upgrade pip' command.\n"
          ]
        }
      ],
      "source": [
        "!pip install nbconvert"
      ]
    },
    {
      "cell_type": "code",
      "execution_count": 3,
      "metadata": {
        "colab": {
          "base_uri": "https://localhost:8080/",
          "height": 332
        },
        "id": "LcrV62WJVOzt",
        "outputId": "97e73404-e004-46fa-c5b1-04e3d9dc185a"
      },
      "outputs": [
        {
          "ename": "FileNotFoundError",
          "evalue": "[Errno 2] No such file or directory: '/content/Queda Livre.xlsx'",
          "output_type": "error",
          "traceback": [
            "\u001b[1;31m---------------------------------------------------------------------------\u001b[0m",
            "\u001b[1;31mFileNotFoundError\u001b[0m                         Traceback (most recent call last)",
            "\u001b[1;32mc:\\Users\\T-Gamer\\Documents\\Desenvolvimento 2022\\Python com Excel\\Códigos_Mecanica\\CalculosQuedaLivre.ipynb Célula: 2\u001b[0m in \u001b[0;36m<cell line: 5>\u001b[1;34m()\u001b[0m\n\u001b[0;32m      <a href='vscode-notebook-cell:/c%3A/Users/T-Gamer/Documents/Desenvolvimento%202022/Python%20com%20Excel/C%C3%B3digos_Mecanica/CalculosQuedaLivre.ipynb#W1sZmlsZQ%3D%3D?line=1'>2</a>\u001b[0m \u001b[39m# import matplotlib.pyplot as plt\u001b[39;00m\n\u001b[0;32m      <a href='vscode-notebook-cell:/c%3A/Users/T-Gamer/Documents/Desenvolvimento%202022/Python%20com%20Excel/C%C3%B3digos_Mecanica/CalculosQuedaLivre.ipynb#W1sZmlsZQ%3D%3D?line=2'>3</a>\u001b[0m \u001b[39mimport\u001b[39;00m \u001b[39mnumpy\u001b[39;00m \u001b[39mas\u001b[39;00m \u001b[39mnp\u001b[39;00m\n\u001b[1;32m----> <a href='vscode-notebook-cell:/c%3A/Users/T-Gamer/Documents/Desenvolvimento%202022/Python%20com%20Excel/C%C3%B3digos_Mecanica/CalculosQuedaLivre.ipynb#W1sZmlsZQ%3D%3D?line=4'>5</a>\u001b[0m tabela \u001b[39m=\u001b[39m pd\u001b[39m.\u001b[39;49mread_excel(\u001b[39m\"\u001b[39;49m\u001b[39m/content/Queda Livre.xlsx\u001b[39;49m\u001b[39m\"\u001b[39;49m)\n",
            "File \u001b[1;32mc:\\Python39\\lib\\site-packages\\pandas\\util\\_decorators.py:311\u001b[0m, in \u001b[0;36mdeprecate_nonkeyword_arguments.<locals>.decorate.<locals>.wrapper\u001b[1;34m(*args, **kwargs)\u001b[0m\n\u001b[0;32m    305\u001b[0m \u001b[39mif\u001b[39;00m \u001b[39mlen\u001b[39m(args) \u001b[39m>\u001b[39m num_allow_args:\n\u001b[0;32m    306\u001b[0m     warnings\u001b[39m.\u001b[39mwarn(\n\u001b[0;32m    307\u001b[0m         msg\u001b[39m.\u001b[39mformat(arguments\u001b[39m=\u001b[39marguments),\n\u001b[0;32m    308\u001b[0m         \u001b[39mFutureWarning\u001b[39;00m,\n\u001b[0;32m    309\u001b[0m         stacklevel\u001b[39m=\u001b[39mstacklevel,\n\u001b[0;32m    310\u001b[0m     )\n\u001b[1;32m--> 311\u001b[0m \u001b[39mreturn\u001b[39;00m func(\u001b[39m*\u001b[39margs, \u001b[39m*\u001b[39m\u001b[39m*\u001b[39mkwargs)\n",
            "File \u001b[1;32mc:\\Python39\\lib\\site-packages\\pandas\\io\\excel\\_base.py:457\u001b[0m, in \u001b[0;36mread_excel\u001b[1;34m(io, sheet_name, header, names, index_col, usecols, squeeze, dtype, engine, converters, true_values, false_values, skiprows, nrows, na_values, keep_default_na, na_filter, verbose, parse_dates, date_parser, thousands, decimal, comment, skipfooter, convert_float, mangle_dupe_cols, storage_options)\u001b[0m\n\u001b[0;32m    455\u001b[0m \u001b[39mif\u001b[39;00m \u001b[39mnot\u001b[39;00m \u001b[39misinstance\u001b[39m(io, ExcelFile):\n\u001b[0;32m    456\u001b[0m     should_close \u001b[39m=\u001b[39m \u001b[39mTrue\u001b[39;00m\n\u001b[1;32m--> 457\u001b[0m     io \u001b[39m=\u001b[39m ExcelFile(io, storage_options\u001b[39m=\u001b[39;49mstorage_options, engine\u001b[39m=\u001b[39;49mengine)\n\u001b[0;32m    458\u001b[0m \u001b[39melif\u001b[39;00m engine \u001b[39mand\u001b[39;00m engine \u001b[39m!=\u001b[39m io\u001b[39m.\u001b[39mengine:\n\u001b[0;32m    459\u001b[0m     \u001b[39mraise\u001b[39;00m \u001b[39mValueError\u001b[39;00m(\n\u001b[0;32m    460\u001b[0m         \u001b[39m\"\u001b[39m\u001b[39mEngine should not be specified when passing \u001b[39m\u001b[39m\"\u001b[39m\n\u001b[0;32m    461\u001b[0m         \u001b[39m\"\u001b[39m\u001b[39man ExcelFile - ExcelFile already has the engine set\u001b[39m\u001b[39m\"\u001b[39m\n\u001b[0;32m    462\u001b[0m     )\n",
            "File \u001b[1;32mc:\\Python39\\lib\\site-packages\\pandas\\io\\excel\\_base.py:1376\u001b[0m, in \u001b[0;36mExcelFile.__init__\u001b[1;34m(self, path_or_buffer, engine, storage_options)\u001b[0m\n\u001b[0;32m   1374\u001b[0m     ext \u001b[39m=\u001b[39m \u001b[39m\"\u001b[39m\u001b[39mxls\u001b[39m\u001b[39m\"\u001b[39m\n\u001b[0;32m   1375\u001b[0m \u001b[39melse\u001b[39;00m:\n\u001b[1;32m-> 1376\u001b[0m     ext \u001b[39m=\u001b[39m inspect_excel_format(\n\u001b[0;32m   1377\u001b[0m         content_or_path\u001b[39m=\u001b[39;49mpath_or_buffer, storage_options\u001b[39m=\u001b[39;49mstorage_options\n\u001b[0;32m   1378\u001b[0m     )\n\u001b[0;32m   1379\u001b[0m     \u001b[39mif\u001b[39;00m ext \u001b[39mis\u001b[39;00m \u001b[39mNone\u001b[39;00m:\n\u001b[0;32m   1380\u001b[0m         \u001b[39mraise\u001b[39;00m \u001b[39mValueError\u001b[39;00m(\n\u001b[0;32m   1381\u001b[0m             \u001b[39m\"\u001b[39m\u001b[39mExcel file format cannot be determined, you must specify \u001b[39m\u001b[39m\"\u001b[39m\n\u001b[0;32m   1382\u001b[0m             \u001b[39m\"\u001b[39m\u001b[39man engine manually.\u001b[39m\u001b[39m\"\u001b[39m\n\u001b[0;32m   1383\u001b[0m         )\n",
            "File \u001b[1;32mc:\\Python39\\lib\\site-packages\\pandas\\io\\excel\\_base.py:1250\u001b[0m, in \u001b[0;36minspect_excel_format\u001b[1;34m(content_or_path, storage_options)\u001b[0m\n\u001b[0;32m   1247\u001b[0m \u001b[39mif\u001b[39;00m \u001b[39misinstance\u001b[39m(content_or_path, \u001b[39mbytes\u001b[39m):\n\u001b[0;32m   1248\u001b[0m     content_or_path \u001b[39m=\u001b[39m BytesIO(content_or_path)\n\u001b[1;32m-> 1250\u001b[0m \u001b[39mwith\u001b[39;00m get_handle(\n\u001b[0;32m   1251\u001b[0m     content_or_path, \u001b[39m\"\u001b[39;49m\u001b[39mrb\u001b[39;49m\u001b[39m\"\u001b[39;49m, storage_options\u001b[39m=\u001b[39;49mstorage_options, is_text\u001b[39m=\u001b[39;49m\u001b[39mFalse\u001b[39;49;00m\n\u001b[0;32m   1252\u001b[0m ) \u001b[39mas\u001b[39;00m handle:\n\u001b[0;32m   1253\u001b[0m     stream \u001b[39m=\u001b[39m handle\u001b[39m.\u001b[39mhandle\n\u001b[0;32m   1254\u001b[0m     stream\u001b[39m.\u001b[39mseek(\u001b[39m0\u001b[39m)\n",
            "File \u001b[1;32mc:\\Python39\\lib\\site-packages\\pandas\\io\\common.py:798\u001b[0m, in \u001b[0;36mget_handle\u001b[1;34m(path_or_buf, mode, encoding, compression, memory_map, is_text, errors, storage_options)\u001b[0m\n\u001b[0;32m    789\u001b[0m         handle \u001b[39m=\u001b[39m \u001b[39mopen\u001b[39m(\n\u001b[0;32m    790\u001b[0m             handle,\n\u001b[0;32m    791\u001b[0m             ioargs\u001b[39m.\u001b[39mmode,\n\u001b[1;32m   (...)\u001b[0m\n\u001b[0;32m    794\u001b[0m             newline\u001b[39m=\u001b[39m\u001b[39m\"\u001b[39m\u001b[39m\"\u001b[39m,\n\u001b[0;32m    795\u001b[0m         )\n\u001b[0;32m    796\u001b[0m     \u001b[39melse\u001b[39;00m:\n\u001b[0;32m    797\u001b[0m         \u001b[39m# Binary mode\u001b[39;00m\n\u001b[1;32m--> 798\u001b[0m         handle \u001b[39m=\u001b[39m \u001b[39mopen\u001b[39;49m(handle, ioargs\u001b[39m.\u001b[39;49mmode)\n\u001b[0;32m    799\u001b[0m     handles\u001b[39m.\u001b[39mappend(handle)\n\u001b[0;32m    801\u001b[0m \u001b[39m# Convert BytesIO or file objects passed with an encoding\u001b[39;00m\n",
            "\u001b[1;31mFileNotFoundError\u001b[0m: [Errno 2] No such file or directory: '/content/Queda Livre.xlsx'"
          ]
        }
      ],
      "source": [
        "# import pandas as pd\n",
        "# import matplotlib.pyplot as plt\n",
        "# import numpy as np\n",
        "\n",
        "# tabela = pd.read_excel(\"/content/Queda Livre.xlsx\") #aqui irá ler os dados em Excel\n",
        "# # # Criando o histograma para os dados da Área\n",
        "\n",
        "\n",
        "# maximo_tempo = np.amax(tabela[\"Tempo\"]) \n",
        "# minimo_tempo = np.amin(tabela[\"Tempo\"])\n",
        "# print(\"Tempo máximo:\", maximo_tempo)\n",
        "# print(\"Tempo mínimo:\", minimo_tempo)  \n",
        "\n",
        "# plt.hist(tabela['Tempo'],bins=3, edgecolor=\"black\")\n",
        "\n",
        "# # Colocando o título no histograma\n",
        "# plt.title(\"Histograma Area (cm²)\")\n",
        "\n",
        "# # #Podemos criar um legenda no gráfico para apontar a média\n",
        "# # média = 11203.23\n",
        "# # cor = \"#FA8072\"\n",
        "# # plt.axvline(média, color=cor, label=\"Média_Área: 11203.23\")\n",
        "# # plt.legend()\n",
        "\n",
        "# # Colocando legenda nos Eixos\n",
        "# plt.xlabel(\"Área (cm²)\")\n",
        "# plt.ylabel(\"Frequência dos dados\")\n",
        "# plt.tight_layout()\n",
        "# plt.show()"
      ]
    },
    {
      "cell_type": "markdown",
      "metadata": {
        "id": "vscYsMzeAVpR"
      },
      "source": [
        "\n",
        "\n",
        "**Agora podemos calcular a incerteza da Área por meio da propagação de erros utilizando a relação abaixo:**\n",
        "\n",
        "\\begin{equation}\n",
        " \\boxed{σ_{A} = A \\sqrt{\\left (\\dfrac{σ_{c}}{c} \\right)^2 + \\left (\\dfrac{ σ_{l}}{l} \\right)^2}} \n",
        "\\end{equation}"
      ]
    },
    {
      "cell_type": "code",
      "execution_count": null,
      "metadata": {
        "colab": {
          "base_uri": "https://localhost:8080/"
        },
        "id": "EfrUT6dy_FvD",
        "outputId": "c8c09c7c-ba1f-402e-d8d4-d39fb70d8323"
      },
      "outputs": [],
      "source": [
        "\n",
        "import numpy as np \n",
        "# Derivada em g\n",
        "Derivada_g = (2/(0.30)**2)\n",
        "print(\"Derivada em G: \", Derivada_g)\n",
        "\n",
        "# Derivada em t\n",
        "Derivada_t = ((-2*0.90)/(0.30)**3)\n",
        "print(\"Derivada em T: \", Derivada_t)\n",
        "\n",
        "\n",
        "def derivadas(x,y):\n",
        "  valor_1 = (2/(x)**2)\n",
        "  valor_2 = ((-2*y)/(x)**3)\n",
        "  return valor_1, valor_2\n",
        "\n",
        "valores = derivadas(0.30,0.90)\n",
        "print(\"Derivada em G\",valores[0], \"Derivadas em T\", valores[1])\n",
        "\n",
        "\n",
        "lista  = []\n",
        "def derivadas(valores):\n",
        "  for i in range(len(valores)):\n",
        "    valor_1 = (2/(valores[i])**2)\n",
        "    # valor_2 = ((-2*i)/(i)**3)\n",
        "    lista.append(valor_1)\n",
        "  return lista\n",
        "\n",
        "valores = [0.30,0.90]\n",
        "print(derivadas(valores))\n",
        "\n",
        "valores = [0.30, 0.67, 0.90]\n",
        "for i in valores:\n",
        "    print(i*3)\n",
        "\n",
        "for i in range(len(valores)):\n",
        "  print(\"ok\",valores[i])\n",
        "\n",
        "def incertezaAnalogico(Derivada_g, Derivada_t):\n",
        "  #Calculando a incerteza de g no analogico\n",
        "  erro_g = np.sqrt((Derivada_g * 0.0005)**2 + (Derivada_t * 0.0077)**2)\n",
        "  return erro_g\n",
        "print(\"Erro de g analogico: \", incertezaAnalogico(22.22,-66.66))\n"
      ]
    },
    {
      "cell_type": "markdown",
      "metadata": {
        "id": "H0qrh7U34tG7"
      },
      "source": [
        "**Calculando a incerteza de g no digital**"
      ]
    },
    {
      "cell_type": "code",
      "execution_count": 6,
      "metadata": {
        "colab": {
          "base_uri": "https://localhost:8080/"
        },
        "id": "dc4zs6zJ4qsr",
        "outputId": "9d850432-e8ca-45b5-87a4-984e60bd16d0"
      },
      "outputs": [
        {
          "name": "stdout",
          "output_type": "stream",
          "text": [
            "Derivada em G:  12.499999999999998\n",
            "Derivada em T:  -24.29543245869777\n",
            "Erro de g digital:  0.02064793839502653\n"
          ]
        }
      ],
      "source": [
        "\n",
        "import numpy as np \n",
        "# Derivada em g\n",
        "Derivada_g = (2/(0.42)**2)\n",
        "print(\"Derivada em G: \", Derivada_g)\n",
        "\n",
        "# Derivada em t\n",
        "Derivada_t = ((-2*0.90)/(0.42)**3)\n",
        "print(\"Derivada em T: \", Derivada_t)\n",
        "\n",
        "def incertezaDigital(derivada_g, derivada_t):\n",
        "  #Calculando a incerteza de g no analogico\n",
        "  erro_g = np.sqrt((Derivada_g * 0.0005)**2 + (Derivada_t * 0.00081)**2)\n",
        "  return erro_g\n",
        "print(\"Erro de g digital: \", incertezaDigital(11.33,-24.29))"
      ]
    },
    {
      "cell_type": "markdown",
      "metadata": {
        "id": "-J_UNW7LAjEa"
      },
      "source": [
        "**Calculando compatibilidade em Python**\n",
        " \n",
        " A compatibilidade  e discrepância é dada pela seguinte relação:\n",
        "\n",
        " \\begin{equation}\n",
        "    |\\bar{x}-x_{ref}|< 2σ_{\\bar{x}}\n",
        "\\end{equation}  \n",
        "\n",
        "Sendo que se a discrepancia for menor que 2x a incerteza(σx) do valor de referência, aceita-se a compatibilidade.\n",
        "\n",
        "Caso a discrepância caia na região entre 2x e 3x a incerteza(σx) o experimento é dado como **inconclusivo**.\n",
        "\n"
      ]
    },
    {
      "cell_type": "markdown",
      "metadata": {
        "id": "zxx5Yl2iN7Tt"
      },
      "source": [
        "**Compatibilidade no digital com o valor de g = 10.11**"
      ]
    },
    {
      "cell_type": "code",
      "execution_count": null,
      "metadata": {
        "colab": {
          "base_uri": "https://localhost:8080/"
        },
        "id": "dUjzpBYsPTWe",
        "outputId": "6b932c1a-7713-4f48-9675-295a11e1547d"
      },
      "outputs": [
        {
          "name": "stdout",
          "output_type": "stream",
          "text": [
            "2sigma: 0.04\n",
            "3sigma: 0.06\n",
            "O valor da discrepancia é : 0.32\n",
            "O valor é superior que 3x a incerteza(sigma), logo imcompativel : 0.32 > 0.06\n"
          ]
        }
      ],
      "source": [
        "\n",
        "\n",
        "import numpy as np\n",
        "\n",
        "#Valor de referencia\n",
        "g_ref = 9.79\n",
        "#Valor da nossa gravidade \n",
        "G_digital = 10.11\n",
        "#Incerteza da nossa gravidade\n",
        "Incerteza_Gravidade = 0.020\n",
        "\n",
        "#Erro2xSigmas\n",
        "DoisSigma = round(2 * Incerteza_Gravidade,2)\n",
        "print(\"2sigma:\", DoisSigma)\n",
        "\n",
        "#Erro3xSigmas\n",
        "TresSigma = round(3 * Incerteza_Gravidade,2)\n",
        "print(\"3sigma:\", TresSigma)\n",
        "\n",
        "# Calculando a discrepancia, vamos precisar calcular o módulo\n",
        "discrepancia = np.abs(round(G_digital - g_ref,2)) #Utilizando a função abs para calcular o valor absoluto, ou o módulo\n",
        "print(\"O valor da discrepancia é :\", discrepancia)\n",
        "\n",
        "#Agora vamos avaliar a compatibilidade\n",
        "if(discrepancia < DoisSigma):\n",
        "   print(\"É compativel com o valor de referencia\", discrepancia, \"<\" , DoisSigma)\n",
        "elif(DoisSigma > discrepancia < TresSigma):\n",
        "   print(\"O valor está na região entre 2x e 3x a incerteza(sigma), logo inconclusivo:\", discrepancia, \">\", DoisSigma)\n",
        "else:\n",
        "  print(\"O valor é superior que 3x a incerteza(sigma), logo incompativel :\", discrepancia, \">\",  TresSigma)\n"
      ]
    },
    {
      "cell_type": "markdown",
      "metadata": {
        "id": "dkv2eUyCOX2f"
      },
      "source": [
        "**Compatibilidade no manual com o valor de g = 20**"
      ]
    },
    {
      "cell_type": "code",
      "execution_count": null,
      "metadata": {
        "colab": {
          "base_uri": "https://localhost:8080/"
        },
        "id": "_QOk-BEFOLD-",
        "outputId": "9ae9353b-4575-4c1f-bb1e-8049ff9a04a2"
      },
      "outputs": [
        {
          "name": "stdout",
          "output_type": "stream",
          "text": [
            "2sigma: 1.02\n",
            "3sigma: 1.53\n",
            "O valor da discrepancia é : 10.21\n",
            "O valor é superior que 3x a incerteza(sigma), logo incompativel : 10.21 > 1.53\n"
          ]
        }
      ],
      "source": [
        "\n",
        "import numpy as np\n",
        "\n",
        "#Valor de referencia\n",
        "g_ref = 9.79\n",
        "#Valor da nossa gravidade \n",
        "G_manual = 20\n",
        "#Incerteza da nossa gravidade\n",
        "Incerteza_Gravidade = 0.51\n",
        "\n",
        "#Erro2xSigmas\n",
        "DoisSigma = round(2 * Incerteza_Gravidade,2)\n",
        "print(\"2sigma:\", DoisSigma)\n",
        "\n",
        "#Erro3xSigmas\n",
        "TresSigma = round(3 * Incerteza_Gravidade,2)\n",
        "print(\"3sigma:\", TresSigma)\n",
        "\n",
        "# Calculando a discrepancia, vamos precisar calcular o módulo\n",
        "discrepancia = np.abs(round(G_manual - g_ref,2)) #Utilizando a função abs para calcular o valor absoluto, ou o módulo\n",
        "print(\"O valor da discrepancia é :\", discrepancia)\n",
        "\n",
        "#Agora vamos avaliar a compatibilidade\n",
        "if(discrepancia < DoisSigma):\n",
        "   print(\"É compativel com o valor de referencia\", discrepancia, \"<\" , DoisSigma)\n",
        "elif(DoisSigma > discrepancia < TresSigma):\n",
        "   print(\"O valor está na região entre 2x e 3x a incerteza(sigma), logo inconclusivo:\", discrepancia, \">\", DoisSigma)\n",
        "else:\n",
        "  print(\"O valor é superior que 3x a incerteza(sigma), logo incompativel :\", discrepancia, \">\",  TresSigma)\n"
      ]
    },
    {
      "cell_type": "code",
      "execution_count": null,
      "metadata": {
        "id": "V1GcjNfB3QcY"
      },
      "outputs": [],
      "source": [
        "\n",
        "!jupyter nbconvert --to html CalculosMecanica.ipynb\n"
      ]
    }
  ],
  "metadata": {
    "colab": {
      "collapsed_sections": [],
      "name": " CalculosQuedaLivre.ipynb",
      "provenance": []
    },
    "kernelspec": {
      "display_name": "Python 3.9.5 64-bit",
      "language": "python",
      "name": "python3"
    },
    "language_info": {
      "codemirror_mode": {
        "name": "ipython",
        "version": 3
      },
      "file_extension": ".py",
      "mimetype": "text/x-python",
      "name": "python",
      "nbconvert_exporter": "python",
      "pygments_lexer": "ipython3",
      "version": "3.9.5"
    },
    "vscode": {
      "interpreter": {
        "hash": "81794d4967e6c3204c66dcd87b604927b115b27c00565d3d43f05ba2f3a2cb0d"
      }
    }
  },
  "nbformat": 4,
  "nbformat_minor": 0
}
