{
  "nbformat": 4,
  "nbformat_minor": 0,
  "metadata": {
    "colab": {
      "name": " CalculosQuedaLivre.ipynb",
      "provenance": [],
      "collapsed_sections": []
    },
    "kernelspec": {
      "name": "python3",
      "display_name": "Python 3"
    },
    "language_info": {
      "name": "python"
    }
  },
  "cells": [
    {
      "cell_type": "code",
      "source": [
        "!pip install nbconvert"
      ],
      "metadata": {
        "id": "7Z_cx-RY1I79"
      },
      "execution_count": null,
      "outputs": []
    },
    {
      "cell_type": "code",
      "source": [
        "import pandas as pd\n",
        "import matplotlib.pyplot as plt\n",
        "import numpy as np\n",
        "\n",
        "tabela = pd.read_excel(\"/content/Queda Livre.xlsx\") #aqui irá ler os dados em Excel\n",
        "# # Criando o histograma para os dados da Área\n",
        "\n",
        "\n",
        "maximo_tempo = np.amax(tabela[\"Tempo\"]) \n",
        "minimo_tempo = np.amin(tabela[\"Tempo\"])\n",
        "print(\"Tempo máximo:\", maximo_tempo)\n",
        "print(\"Tempo mínimo:\", minimo_tempo)  \n",
        "\n",
        "plt.hist(tabela['Tempo'],bins=3, edgecolor=\"black\")\n",
        "\n",
        "# Colocando o título no histograma\n",
        "plt.title(\"Histograma Area (cm²)\")\n",
        "\n",
        "# #Podemos criar um legenda no gráfico para apontar a média\n",
        "# média = 11203.23\n",
        "# cor = \"#FA8072\"\n",
        "# plt.axvline(média, color=cor, label=\"Média_Área: 11203.23\")\n",
        "# plt.legend()\n",
        "\n",
        "\n",
        "\n",
        "# Colocando legenda nos Eixos\n",
        "plt.xlabel(\"Área (cm²)\")\n",
        "plt.ylabel(\"Frequência dos dados\")\n",
        "\n",
        "plt.tight_layout()\n",
        " \n",
        "\n",
        "plt.show()"
      ],
      "metadata": {
        "colab": {
          "base_uri": "https://localhost:8080/",
          "height": 332
        },
        "outputId": "97e73404-e004-46fa-c5b1-04e3d9dc185a",
        "id": "LcrV62WJVOzt"
      },
      "execution_count": null,
      "outputs": [
        {
          "output_type": "stream",
          "name": "stdout",
          "text": [
            "Tempo máximo: 0.54\n",
            "Tempo mínimo: 0.1\n"
          ]
        },
        {
          "output_type": "display_data",
          "data": {
            "text/plain": [
              "<Figure size 432x288 with 1 Axes>"
            ],
            "image/png": "[encoded data removed]"
          },
          "metadata": {
            "needs_background": "light"
          }
        }
      ]
    },
    {
      "cell_type": "markdown",
      "source": [
        "\n",
        "\n",
        "**Agora podemos calcular a incerteza da Área por meio da propagação de erros utilizando a relação abaixo:**\n",
        "\n",
        "\\begin{equation}\n",
        " \\boxed{σ_{A} = A \\sqrt{\\left (\\dfrac{σ_{c}}{c} \\right)^2 + \\left (\\dfrac{ σ_{l}}{l} \\right)^2}} \n",
        "\\end{equation}"
      ],
      "metadata": {
        "id": "vscYsMzeAVpR"
      }
    },
    {
      "cell_type": "code",
      "source": [
        "\n",
        "import numpy as np \n",
        "# Derivada em g\n",
        "Derivada_g = (2/(0.30)**2)\n",
        "print(\"Derivada em G: \", Derivada_g)\n",
        "\n",
        "# Derivada em t\n",
        "Derivada_t = ((-2*0.90)/(0.30)**3)\n",
        "print(\"Derivada em T: \", Derivada_t)\n",
        "\n",
        "def incertezaAnalogico(Derivada_g, Derivada_t):\n",
        "  #Calculando a incerteza de g no analogico\n",
        "  erro_g = np.sqrt((Derivada_g * 0.0005)**2 + (Derivada_t * 0.0077)**2)\n",
        "  return erro_g\n",
        "print(\"Erro de g analogico: \", incertezaAnalogico(22.22,-66.66))\n"
      ],
      "metadata": {
        "colab": {
          "base_uri": "https://localhost:8080/"
        },
        "id": "EfrUT6dy_FvD",
        "outputId": "c8c09c7c-ba1f-402e-d8d4-d39fb70d8323"
      },
      "execution_count": 2,
      "outputs": [
        {
          "output_type": "stream",
          "name": "stdout",
          "text": [
            "Derivada em G:  22.22222222222222\n",
            "Derivada em T:  -66.66666666666667\n",
            "Erro de g analogico:  0.51340222401544\n"
          ]
        }
      ]
    },
    {
      "cell_type": "markdown",
      "source": [
        "**Calculando a incerteza de g no digital**"
      ],
      "metadata": {
        "id": "H0qrh7U34tG7"
      }
    },
    {
      "cell_type": "code",
      "source": [
        "\n",
        "import numpy as np \n",
        "# Derivada em g\n",
        "Derivada_g = (2/(0.42)**2)\n",
        "print(\"Derivada em G: \", Derivada_g)\n",
        "\n",
        "# Derivada em t\n",
        "Derivada_t = ((-2*0.90)/(0.42)**3)\n",
        "print(\"Derivada em T: \", Derivada_t)\n",
        "\n",
        "def incertezaDigital(derivada_g, derivada_t):\n",
        "  #Calculando a incerteza de g no analogico\n",
        "  erro_g = np.sqrt((Derivada_g * 0.0005)**2 + (Derivada_t * 0.00081)**2)\n",
        "  return erro_g\n",
        "print(\"Erro de g digital: \", incertezaDigital(11.33,-24.29))"
      ],
      "metadata": {
        "colab": {
          "base_uri": "https://localhost:8080/"
        },
        "outputId": "9d850432-e8ca-45b5-87a4-984e60bd16d0",
        "id": "dc4zs6zJ4qsr"
      },
      "execution_count": 6,
      "outputs": [
        {
          "output_type": "stream",
          "name": "stdout",
          "text": [
            "Derivada em G:  11.337868480725625\n",
            "Derivada em T:  -24.29543245869777\n",
            "Erro de g digital:  0.02047954285101034\n"
          ]
        }
      ]
    },
    {
      "cell_type": "markdown",
      "source": [
        "**Calculando compatibilidade em Python**\n",
        " \n",
        " A compatibilidade  e discrepância é dada pela seguinte relação:\n",
        "\n",
        " \\begin{equation}\n",
        "    |\\bar{x}-x_{ref}|< 2σ_{\\bar{x}}\n",
        "\\end{equation}  \n",
        "\n",
        "Sendo que se a discrepancia for menor que 2x a incerteza(σx) do valor de referência, aceita-se a compatibilidade.\n",
        "\n",
        "Caso a discrepância caia na região entre 2x e 3x a incerteza(σx) o experimento é dado como **inconclusivo**.\n",
        "\n"
      ],
      "metadata": {
        "id": "-J_UNW7LAjEa"
      }
    },
    {
      "cell_type": "markdown",
      "source": [
        "**Compatibilidade no digital com o valor de g = 10.11**"
      ],
      "metadata": {
        "id": "zxx5Yl2iN7Tt"
      }
    },
    {
      "cell_type": "code",
      "source": [
        "\n",
        "\n",
        "import numpy as np\n",
        "\n",
        "#Valor de referencia\n",
        "g_ref = 9.79\n",
        "#Valor da nossa gravidade \n",
        "G_digital = 10.11\n",
        "#Incerteza da nossa gravidade\n",
        "Incerteza_Gravidade = 0.020\n",
        "\n",
        "#Erro2xSigmas\n",
        "DoisSigma = round(2 * Incerteza_Gravidade,2)\n",
        "print(\"2sigma:\", DoisSigma)\n",
        "\n",
        "#Erro3xSigmas\n",
        "TresSigma = round(3 * Incerteza_Gravidade,2)\n",
        "print(\"3sigma:\", TresSigma)\n",
        "\n",
        "# Calculando a discrepancia, vamos precisar calcular o módulo\n",
        "discrepancia = np.abs(round(G_digital - g_ref,2)) #Utilizando a função abs para calcular o valor absoluto, ou o módulo\n",
        "print(\"O valor da discrepancia é :\", discrepancia)\n",
        "\n",
        "#Agora vamos avaliar a compatibilidade\n",
        "if(discrepancia < DoisSigma):\n",
        "   print(\"É compativel com o valor de referencia\", discrepancia, \"<\" , DoisSigma)\n",
        "elif(DoisSigma > discrepancia < TresSigma):\n",
        "   print(\"O valor está na região entre 2x e 3x a incerteza(sigma), logo inconclusivo:\", discrepancia, \">\", DoisSigma)\n",
        "else:\n",
        "  print(\"O valor é superior que 3x a incerteza(sigma), logo incompativel :\", discrepancia, \">\",  TresSigma)\n"
      ],
      "metadata": {
        "id": "dUjzpBYsPTWe",
        "colab": {
          "base_uri": "https://localhost:8080/"
        },
        "outputId": "6b932c1a-7713-4f48-9675-295a11e1547d"
      },
      "execution_count": null,
      "outputs": [
        {
          "output_type": "stream",
          "name": "stdout",
          "text": [
            "2sigma: 0.04\n",
            "3sigma: 0.06\n",
            "O valor da discrepancia é : 0.32\n",
            "O valor é superior que 3x a incerteza(sigma), logo imcompativel : 0.32 > 0.06\n"
          ]
        }
      ]
    },
    {
      "cell_type": "markdown",
      "source": [
        "**Compatibilidade no manual com o valor de g = 20**"
      ],
      "metadata": {
        "id": "dkv2eUyCOX2f"
      }
    },
    {
      "cell_type": "code",
      "source": [
        "\n",
        "import numpy as np\n",
        "\n",
        "#Valor de referencia\n",
        "g_ref = 9.79\n",
        "#Valor da nossa gravidade \n",
        "G_manual = 20\n",
        "#Incerteza da nossa gravidade\n",
        "Incerteza_Gravidade = 0.51\n",
        "\n",
        "#Erro2xSigmas\n",
        "DoisSigma = round(2 * Incerteza_Gravidade,2)\n",
        "print(\"2sigma:\", DoisSigma)\n",
        "\n",
        "#Erro3xSigmas\n",
        "TresSigma = round(3 * Incerteza_Gravidade,2)\n",
        "print(\"3sigma:\", TresSigma)\n",
        "\n",
        "# Calculando a discrepancia, vamos precisar calcular o módulo\n",
        "discrepancia = np.abs(round(G_manual - g_ref,2)) #Utilizando a função abs para calcular o valor absoluto, ou o módulo\n",
        "print(\"O valor da discrepancia é :\", discrepancia)\n",
        "\n",
        "#Agora vamos avaliar a compatibilidade\n",
        "if(discrepancia < DoisSigma):\n",
        "   print(\"É compativel com o valor de referencia\", discrepancia, \"<\" , DoisSigma)\n",
        "elif(DoisSigma > discrepancia < TresSigma):\n",
        "   print(\"O valor está na região entre 2x e 3x a incerteza(sigma), logo inconclusivo:\", discrepancia, \">\", DoisSigma)\n",
        "else:\n",
        "  print(\"O valor é superior que 3x a incerteza(sigma), logo incompativel :\", discrepancia, \">\",  TresSigma)\n"
      ],
      "metadata": {
        "colab": {
          "base_uri": "https://localhost:8080/"
        },
        "outputId": "9ae9353b-4575-4c1f-bb1e-8049ff9a04a2",
        "id": "_QOk-BEFOLD-"
      },
      "execution_count": null,
      "outputs": [
        {
          "output_type": "stream",
          "name": "stdout",
          "text": [
            "2sigma: 1.02\n",
            "3sigma: 1.53\n",
            "O valor da discrepancia é : 10.21\n",
            "O valor é superior que 3x a incerteza(sigma), logo incompativel : 10.21 > 1.53\n"
          ]
        }
      ]
    },
    {
      "cell_type": "code",
      "source": [
        "\n",
        "!jupyter nbconvert --to html CalculosMecanica.ipynb\n"
      ],
      "metadata": {
        "id": "V1GcjNfB3QcY"
      },
      "execution_count": null,
      "outputs": []
    }
  ]
}