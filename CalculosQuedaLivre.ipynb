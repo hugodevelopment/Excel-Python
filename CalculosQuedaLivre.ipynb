{
  "nbformat": 4,
  "nbformat_minor": 0,
  "metadata": {
    "colab": {
      "name": " CalculosQuedaLivre.ipynb",
      "provenance": [],
      "collapsed_sections": []
    },
    "kernelspec": {
      "name": "python3",
      "display_name": "Python 3"
    },
    "language_info": {
      "name": "python"
    }
  },
  "cells": [
    {
      "cell_type": "code",
      "source": [
        "!pip install nbconvert"
      ],
      "metadata": {
        "id": "7Z_cx-RY1I79"
      },
      "execution_count": null,
      "outputs": []
    },
    {
      "cell_type": "markdown",
      "source": [
        "**Para começar a coletar os dados vamos realizar os seguintes cálculos:**\n",
        "\n",
        "1.   Média do Tempo de Queda\n",
        "2.   Desvio Padrão Amostral do Tempo\n",
        "3.   Erro da Média do Tempo\n",
        "4.   Erro Padrão do Tempo\n",
        "\n",
        "**O erro da média é calculado pela seguinte relação:**\n",
        "\n",
        "\\begin{equation}\n",
        " \\boxed{σ_{\\overline{x}} = \\frac{\\sigma_{x}}{\\sqrt{N}}} \n",
        "\\end{equation}\n",
        "\n",
        "**O erro da padrão é calculado pela seguinte relação:**\n",
        "\n",
        "\\begin{equation}\n",
        " \\boxed{\\sigma = \\sqrt{\\sigma_A^2 + \\sigma_B^2}} \n",
        "\\end{equation}"
      ],
      "metadata": {
        "id": "bp1qfnuVZcwG"
      }
    },
    {
      "cell_type": "code",
      "execution_count": null,
      "metadata": {
        "id": "cLsnLMYodZ2S",
        "colab": {
          "base_uri": "https://localhost:8080/",
          "height": 1000
        },
        "outputId": "60fa45e7-d94a-4ffa-e0e8-18e0ef6648f5"
      },
      "outputs": [
        {
          "output_type": "display_data",
          "data": {
            "text/plain": [
              "    Mesa      C     L      Área\n",
              "0      1  149.0  75.0  11175.00\n",
              "1      2  150.0  75.0  11250.00\n",
              "2      3  147.0  75.0  11025.00\n",
              "3      4  150.0  75.0  11250.00\n",
              "4      5  149.0  75.0  11175.00\n",
              "5      6  149.0  75.0  11175.00\n",
              "6      7  149.5  75.0  11212.50\n",
              "7      8  149.6  74.9  11205.04\n",
              "8      9  149.7  74.8  11197.56\n",
              "9     10  149.0  74.8  11145.20\n",
              "10    11  150.0  75.0  11250.00\n",
              "11    12  150.0  74.5  11175.00\n",
              "12    13  149.0  75.0  11175.00\n",
              "13    14  150.0  74.7  11205.00\n",
              "14    15  149.0  74.9  11160.10\n",
              "15    16  149.6  75.0  11220.00\n",
              "16    17  149.8  75.0  11235.00\n",
              "17    18  149.8  75.0  11235.00\n",
              "18    19  149.8  75.0  11235.00\n",
              "19    20  149.7  75.0  11227.50\n",
              "20    21  149.7  75.0  11227.50\n",
              "21    22  149.8  74.8  11205.04\n",
              "22    23  149.8  75.0  11235.00\n",
              "23    24  150.0  75.0  11250.00\n",
              "24    25  149.8  75.0  11235.00"
            ],
            "text/html": [
              "\n",
              "  <div id=\"df-37d3c874-eba1-4e7f-a7fc-c35a38c35c0e\">\n",
              "    <div class=\"colab-df-container\">\n",
              "      <div>\n",
              "<style scoped>\n",
              "    .dataframe tbody tr th:only-of-type {\n",
              "        vertical-align: middle;\n",
              "    }\n",
              "\n",
              "    .dataframe tbody tr th {\n",
              "        vertical-align: top;\n",
              "    }\n",
              "\n",
              "    .dataframe thead th {\n",
              "        text-align: right;\n",
              "    }\n",
              "</style>\n",
              "<table border=\"1\" class=\"dataframe\">\n",
              "  <thead>\n",
              "    <tr style=\"text-align: right;\">\n",
              "      <th></th>\n",
              "      <th>Mesa</th>\n",
              "      <th>C</th>\n",
              "      <th>L</th>\n",
              "      <th>Área</th>\n",
              "    </tr>\n",
              "  </thead>\n",
              "  <tbody>\n",
              "    <tr>\n",
              "      <th>0</th>\n",
              "      <td>1</td>\n",
              "      <td>149.0</td>\n",
              "      <td>75.0</td>\n",
              "      <td>11175.00</td>\n",
              "    </tr>\n",
              "    <tr>\n",
              "      <th>1</th>\n",
              "      <td>2</td>\n",
              "      <td>150.0</td>\n",
              "      <td>75.0</td>\n",
              "      <td>11250.00</td>\n",
              "    </tr>\n",
              "    <tr>\n",
              "      <th>2</th>\n",
              "      <td>3</td>\n",
              "      <td>147.0</td>\n",
              "      <td>75.0</td>\n",
              "      <td>11025.00</td>\n",
              "    </tr>\n",
              "    <tr>\n",
              "      <th>3</th>\n",
              "      <td>4</td>\n",
              "      <td>150.0</td>\n",
              "      <td>75.0</td>\n",
              "      <td>11250.00</td>\n",
              "    </tr>\n",
              "    <tr>\n",
              "      <th>4</th>\n",
              "      <td>5</td>\n",
              "      <td>149.0</td>\n",
              "      <td>75.0</td>\n",
              "      <td>11175.00</td>\n",
              "    </tr>\n",
              "    <tr>\n",
              "      <th>5</th>\n",
              "      <td>6</td>\n",
              "      <td>149.0</td>\n",
              "      <td>75.0</td>\n",
              "      <td>11175.00</td>\n",
              "    </tr>\n",
              "    <tr>\n",
              "      <th>6</th>\n",
              "      <td>7</td>\n",
              "      <td>149.5</td>\n",
              "      <td>75.0</td>\n",
              "      <td>11212.50</td>\n",
              "    </tr>\n",
              "    <tr>\n",
              "      <th>7</th>\n",
              "      <td>8</td>\n",
              "      <td>149.6</td>\n",
              "      <td>74.9</td>\n",
              "      <td>11205.04</td>\n",
              "    </tr>\n",
              "    <tr>\n",
              "      <th>8</th>\n",
              "      <td>9</td>\n",
              "      <td>149.7</td>\n",
              "      <td>74.8</td>\n",
              "      <td>11197.56</td>\n",
              "    </tr>\n",
              "    <tr>\n",
              "      <th>9</th>\n",
              "      <td>10</td>\n",
              "      <td>149.0</td>\n",
              "      <td>74.8</td>\n",
              "      <td>11145.20</td>\n",
              "    </tr>\n",
              "    <tr>\n",
              "      <th>10</th>\n",
              "      <td>11</td>\n",
              "      <td>150.0</td>\n",
              "      <td>75.0</td>\n",
              "      <td>11250.00</td>\n",
              "    </tr>\n",
              "    <tr>\n",
              "      <th>11</th>\n",
              "      <td>12</td>\n",
              "      <td>150.0</td>\n",
              "      <td>74.5</td>\n",
              "      <td>11175.00</td>\n",
              "    </tr>\n",
              "    <tr>\n",
              "      <th>12</th>\n",
              "      <td>13</td>\n",
              "      <td>149.0</td>\n",
              "      <td>75.0</td>\n",
              "      <td>11175.00</td>\n",
              "    </tr>\n",
              "    <tr>\n",
              "      <th>13</th>\n",
              "      <td>14</td>\n",
              "      <td>150.0</td>\n",
              "      <td>74.7</td>\n",
              "      <td>11205.00</td>\n",
              "    </tr>\n",
              "    <tr>\n",
              "      <th>14</th>\n",
              "      <td>15</td>\n",
              "      <td>149.0</td>\n",
              "      <td>74.9</td>\n",
              "      <td>11160.10</td>\n",
              "    </tr>\n",
              "    <tr>\n",
              "      <th>15</th>\n",
              "      <td>16</td>\n",
              "      <td>149.6</td>\n",
              "      <td>75.0</td>\n",
              "      <td>11220.00</td>\n",
              "    </tr>\n",
              "    <tr>\n",
              "      <th>16</th>\n",
              "      <td>17</td>\n",
              "      <td>149.8</td>\n",
              "      <td>75.0</td>\n",
              "      <td>11235.00</td>\n",
              "    </tr>\n",
              "    <tr>\n",
              "      <th>17</th>\n",
              "      <td>18</td>\n",
              "      <td>149.8</td>\n",
              "      <td>75.0</td>\n",
              "      <td>11235.00</td>\n",
              "    </tr>\n",
              "    <tr>\n",
              "      <th>18</th>\n",
              "      <td>19</td>\n",
              "      <td>149.8</td>\n",
              "      <td>75.0</td>\n",
              "      <td>11235.00</td>\n",
              "    </tr>\n",
              "    <tr>\n",
              "      <th>19</th>\n",
              "      <td>20</td>\n",
              "      <td>149.7</td>\n",
              "      <td>75.0</td>\n",
              "      <td>11227.50</td>\n",
              "    </tr>\n",
              "    <tr>\n",
              "      <th>20</th>\n",
              "      <td>21</td>\n",
              "      <td>149.7</td>\n",
              "      <td>75.0</td>\n",
              "      <td>11227.50</td>\n",
              "    </tr>\n",
              "    <tr>\n",
              "      <th>21</th>\n",
              "      <td>22</td>\n",
              "      <td>149.8</td>\n",
              "      <td>74.8</td>\n",
              "      <td>11205.04</td>\n",
              "    </tr>\n",
              "    <tr>\n",
              "      <th>22</th>\n",
              "      <td>23</td>\n",
              "      <td>149.8</td>\n",
              "      <td>75.0</td>\n",
              "      <td>11235.00</td>\n",
              "    </tr>\n",
              "    <tr>\n",
              "      <th>23</th>\n",
              "      <td>24</td>\n",
              "      <td>150.0</td>\n",
              "      <td>75.0</td>\n",
              "      <td>11250.00</td>\n",
              "    </tr>\n",
              "    <tr>\n",
              "      <th>24</th>\n",
              "      <td>25</td>\n",
              "      <td>149.8</td>\n",
              "      <td>75.0</td>\n",
              "      <td>11235.00</td>\n",
              "    </tr>\n",
              "  </tbody>\n",
              "</table>\n",
              "</div>\n",
              "      <button class=\"colab-df-convert\" onclick=\"convertToInteractive('df-37d3c874-eba1-4e7f-a7fc-c35a38c35c0e')\"\n",
              "              title=\"Convert this dataframe to an interactive table.\"\n",
              "              style=\"display:none;\">\n",
              "        \n",
              "  <svg xmlns=\"http://www.w3.org/2000/svg\" height=\"24px\"viewBox=\"0 0 24 24\"\n",
              "       width=\"24px\">\n",
              "    <path d=\"M0 0h24v24H0V0z\" fill=\"none\"/>\n",
              "    <path d=\"M18.56 5.44l.94 2.06.94-2.06 2.06-.94-2.06-.94-.94-2.06-.94 2.06-2.06.94zm-11 1L8.5 8.5l.94-2.06 2.06-.94-2.06-.94L8.5 2.5l-.94 2.06-2.06.94zm10 10l.94 2.06.94-2.06 2.06-.94-2.06-.94-.94-2.06-.94 2.06-2.06.94z\"/><path d=\"M17.41 7.96l-1.37-1.37c-.4-.4-.92-.59-1.43-.59-.52 0-1.04.2-1.43.59L10.3 9.45l-7.72 7.72c-.78.78-.78 2.05 0 2.83L4 21.41c.39.39.9.59 1.41.59.51 0 1.02-.2 1.41-.59l7.78-7.78 2.81-2.81c.8-.78.8-2.07 0-2.86zM5.41 20L4 18.59l7.72-7.72 1.47 1.35L5.41 20z\"/>\n",
              "  </svg>\n",
              "      </button>\n",
              "      \n",
              "  <style>\n",
              "    .colab-df-container {\n",
              "      display:flex;\n",
              "      flex-wrap:wrap;\n",
              "      gap: 12px;\n",
              "    }\n",
              "\n",
              "    .colab-df-convert {\n",
              "      background-color: #E8F0FE;\n",
              "      border: none;\n",
              "      border-radius: 50%;\n",
              "      cursor: pointer;\n",
              "      display: none;\n",
              "      fill: #1967D2;\n",
              "      height: 32px;\n",
              "      padding: 0 0 0 0;\n",
              "      width: 32px;\n",
              "    }\n",
              "\n",
              "    .colab-df-convert:hover {\n",
              "      background-color: #E2EBFA;\n",
              "      box-shadow: 0px 1px 2px rgba(60, 64, 67, 0.3), 0px 1px 3px 1px rgba(60, 64, 67, 0.15);\n",
              "      fill: #174EA6;\n",
              "    }\n",
              "\n",
              "    [theme=dark] .colab-df-convert {\n",
              "      background-color: #3B4455;\n",
              "      fill: #D2E3FC;\n",
              "    }\n",
              "\n",
              "    [theme=dark] .colab-df-convert:hover {\n",
              "      background-color: #434B5C;\n",
              "      box-shadow: 0px 1px 3px 1px rgba(0, 0, 0, 0.15);\n",
              "      filter: drop-shadow(0px 1px 2px rgba(0, 0, 0, 0.3));\n",
              "      fill: #FFFFFF;\n",
              "    }\n",
              "  </style>\n",
              "\n",
              "      <script>\n",
              "        const buttonEl =\n",
              "          document.querySelector('#df-37d3c874-eba1-4e7f-a7fc-c35a38c35c0e button.colab-df-convert');\n",
              "        buttonEl.style.display =\n",
              "          google.colab.kernel.accessAllowed ? 'block' : 'none';\n",
              "\n",
              "        async function convertToInteractive(key) {\n",
              "          const element = document.querySelector('#df-37d3c874-eba1-4e7f-a7fc-c35a38c35c0e');\n",
              "          const dataTable =\n",
              "            await google.colab.kernel.invokeFunction('convertToInteractive',\n",
              "                                                     [key], {});\n",
              "          if (!dataTable) return;\n",
              "\n",
              "          const docLinkHtml = 'Like what you see? Visit the ' +\n",
              "            '<a target=\"_blank\" href=https://colab.research.google.com/notebooks/data_table.ipynb>data table notebook</a>'\n",
              "            + ' to learn more about interactive tables.';\n",
              "          element.innerHTML = '';\n",
              "          dataTable['output_type'] = 'display_data';\n",
              "          await google.colab.output.renderOutput(dataTable, element);\n",
              "          const docLink = document.createElement('div');\n",
              "          docLink.innerHTML = docLinkHtml;\n",
              "          element.appendChild(docLink);\n",
              "        }\n",
              "      </script>\n",
              "    </div>\n",
              "  </div>\n",
              "  "
            ]
          },
          "metadata": {}
        },
        {
          "output_type": "stream",
          "name": "stdout",
          "text": [
            "\n",
            "---------------- Calculos da Média ------------------------------\n",
            "Media do Comprimento(cm):  149.5\n",
            "Media do Largura(cm):  74.94\n",
            "Media da Área(cm²):  11203.22\n",
            "\n",
            "---------------- Calculos do Desvio Padrão Amostral -----------------\n",
            "Desvio Padrão da Comprimento(cm):  0.63\n",
            "Desvio Padrão da Largura(cm):  0.12\n",
            "Desvio Padrão da Área(cm²):  47.48\n",
            "\n",
            "---------------- Calculos Erro da Média -----------------\n",
            "Erro médio do Comprimento(cm):  0.13\n",
            "Erro médio da Largura(cm):  0.02\n",
            "Erro médio da Área (cm²):  9.496\n",
            "\n",
            "-------- Calculos Erro Padrão Largura e Comprimento --------\n",
            "Erro Padrão Comprimento:  0.161\n",
            "Erro Padrão Largura:  0.103\n"
          ]
        }
      ],
      "source": [
        "import pandas as pd\n",
        "import numpy as np\n",
        "\n",
        "from numpy import mean\n",
        "from numpy import std\n",
        "\n",
        "tabela = pd.read_excel(\"/content/PlanilhaMec.xlsx\") #aqui irá ler os dados em Excel\n",
        "display(tabela) #vamos imprimir a tabela de um jeito mais bonito\n",
        "\n",
        "print()\n",
        "\n",
        "print('---------------- Calculos da Média ------------------------------')\n",
        "\n",
        "print(\"Media do Comprimento(cm): \", str(round(mean(tabela['C']),2)))\n",
        "print(\"Media do Largura(cm): \", str(round(mean(tabela['L']),2)))\n",
        "print(\"Media da Área(cm²): \", str(round(mean(tabela['Área']),2)))\n",
        "\n",
        "print()\n",
        "\n",
        "print('---------------- Calculos do Desvio Padrão Amostral -----------------')\n",
        "\n",
        "print(\"Desvio Padrão da Comprimento(cm): \", str(round(std(tabela['C']),2)))\n",
        "print(\"Desvio Padrão da Largura(cm): \", str(round(std(tabela['L']),2)))\n",
        "print(\"Desvio Padrão da Área(cm²): \", str(round(std(tabela['Área']),2)))\n",
        "\n",
        "print()\n",
        "\n",
        "print('---------------- Calculos Erro da Média -----------------')\n",
        "\n",
        "Raiz_das_medidas = 5\n",
        "\n",
        "\n",
        "Dp_Comprimento = np.std(tabela[\"C\"])\n",
        "Erro_Media_Comprimento = Dp_Comprimento / Raiz_das_medidas\n",
        "print(\"Erro médio do Comprimento(cm): \", round(Erro_Media_Comprimento,2))\n",
        "\n",
        "Dp_Largura = np.std(tabela[\"L\"])\n",
        "Erro_Media_Largura = Dp_Largura / Raiz_das_medidas\n",
        "print(\"Erro médio da Largura(cm): \", round(Erro_Media_Largura,2))\n",
        "\n",
        "\n",
        "Dp_Area = np.std(tabela[\"Área\"])\n",
        "Erro_Media_Área = Dp_Area / Raiz_das_medidas\n",
        "print(\"Erro médio da Área (cm²): \",round(Erro_Media_Área,3))\n",
        "\n",
        "print()\n",
        "\n",
        "print('-------- Calculos Erro Padrão Largura e Comprimento --------')\n",
        "\n",
        "Erro_do_instrumento = 0.1\n",
        "\n",
        "Erro_total_comprimento = np.sqrt((Erro_do_instrumento)**2 + (Erro_Media_Comprimento)**2)\n",
        "print(\"Erro Padrão Comprimento: \",round(Erro_total_comprimento,3))\n",
        "\n",
        "Erro_total_largura = np.sqrt(((Erro_do_instrumento)**2 + (Erro_Media_Largura)**2))\n",
        "print(\"Erro Padrão Largura: \", round(Erro_total_largura,3))\n"
      ]
    },
    {
      "cell_type": "markdown",
      "source": [
        "# Histogramas que precisamos:\n",
        "\n",
        "*   Histograma da Largura (cm)\n",
        "*   Histograma do Comprimento (cm)\n",
        "*   Histograma da Área (cm²)\n",
        "\n"
      ],
      "metadata": {
        "id": "zuLuBlUatm0D"
      }
    },
    {
      "cell_type": "code",
      "source": [
        "\n",
        "import matplotlib.pyplot as plt\n",
        "tabela = pd.read_excel(\"/content/PlanilhaMec.xlsx\") #aqui irá ler os dados em Excel\n",
        "\n",
        "bin_count = int(np.ceil(np.log2(len(tabela['L']))) + 1)\n",
        "\n",
        "# Criando o histograma para os dados da largura, com o int\n",
        "plt.hist(tabela['L'], bins= bin_count, edgecolor=\"black\")\n",
        "\n",
        "# Colocando o título no histograma\n",
        "plt.title(\"Histograma Largura (cm)\")\n",
        "\n",
        "\n",
        "\n",
        "#Podemos criar um legenda no gráfico para apontar a média\n",
        "média = 74.9\n",
        "cor = \"#FA8072\"\n",
        "plt.axvline(média, color=cor, label=\"Média_Largura: 74,9\")\n",
        "plt.legend()\n",
        "\n",
        "plt.grid()\n",
        "\n",
        "# Colocando legenda nos Eixos\n",
        "plt.xlabel(\"Largura (cm)\")\n",
        "plt.ylabel(\"Frequência dos dados\")\n",
        "\n",
        "plt.tight_layout()\n",
        "#plotando o gráfico\n",
        "plt.show()\n",
        "plt.savefig('Largura.png')\n",
        "\n"
      ],
      "metadata": {
        "colab": {
          "base_uri": "https://localhost:8080/",
          "height": 314
        },
        "id": "AciDbNmAh_Og",
        "outputId": "c304aab3-ea7d-4848-ce76-db4253520d6a"
      },
      "execution_count": null,
      "outputs": [
        {
          "output_type": "display_data",
          "data": {
            "text/plain": [
              "<Figure size 432x288 with 1 Axes>"
            ],
            "image/png": "[encoded data removed]"
          },
          "metadata": {
            "needs_background": "light"
          }
        },
        {
          "output_type": "display_data",
          "data": {
            "text/plain": [
              "<Figure size 432x288 with 0 Axes>"
            ]
          },
          "metadata": {}
        }
      ]
    },
    {
      "cell_type": "code",
      "source": [
        "import pandas as pd\n",
        "import matplotlib.pyplot as plt\n",
        "import numpy as np\n",
        "\n",
        "tabela = pd.read_excel(\"/content/Queda Livre.xlsx\") #aqui irá ler os dados em Excel\n",
        "# # Criando o histograma para os dados da Área\n",
        "\n",
        "\n",
        "maximo_tempo = np.amax(tabela[\"Tempo\"]) \n",
        "minimo_tempo = np.amin(tabela[\"Tempo\"])\n",
        "print(\"Tempo máximo:\", maximo_tempo)\n",
        "print(\"Tempo mínimo:\", minimo_tempo)  \n",
        "\n",
        "plt.hist(tabela['Tempo'],bins=3, edgecolor=\"black\")\n",
        "\n",
        "# Colocando o título no histograma\n",
        "plt.title(\"Histograma Area (cm²)\")\n",
        "\n",
        "# #Podemos criar um legenda no gráfico para apontar a média\n",
        "# média = 11203.23\n",
        "# cor = \"#FA8072\"\n",
        "# plt.axvline(média, color=cor, label=\"Média_Área: 11203.23\")\n",
        "# plt.legend()\n",
        "\n",
        "\n",
        "\n",
        "# Colocando legenda nos Eixos\n",
        "plt.xlabel(\"Área (cm²)\")\n",
        "plt.ylabel(\"Frequência dos dados\")\n",
        "\n",
        "plt.tight_layout()\n",
        " \n",
        "\n",
        "plt.show()"
      ],
      "metadata": {
        "colab": {
          "base_uri": "https://localhost:8080/",
          "height": 332
        },
        "outputId": "97e73404-e004-46fa-c5b1-04e3d9dc185a",
        "id": "LcrV62WJVOzt"
      },
      "execution_count": null,
      "outputs": [
        {
          "output_type": "stream",
          "name": "stdout",
          "text": [
            "Tempo máximo: 0.54\n",
            "Tempo mínimo: 0.1\n"
          ]
        },
        {
          "output_type": "display_data",
          "data": {
            "text/plain": [
              "<Figure size 432x288 with 1 Axes>"
            ],
            "image/png": "[encoded data removed]"
          },
          "metadata": {
            "needs_background": "light"
          }
        }
      ]
    },
    {
      "cell_type": "code",
      "source": [
        "\n",
        "import matplotlib.pyplot as plt\n",
        "\n",
        "tabela = pd.read_excel(\"/content/PlanilhaMec.xlsx\") #aqui irá ler os dados em Excel\n",
        "# Criando o histograma para os dados da Área\n",
        "plt.hist(tabela['C'],bins=5, edgecolor=\"black\")\n",
        "\n",
        "# Colocando o título no histograma\n",
        "plt.title(\"Histograma Comprimento(cm)\")\n",
        "\n",
        "#Podemos criar um legenda no gráfico para apontar a média\n",
        "média =  149.5\n",
        "cor = \"#FA8072\"\n",
        "plt.axvline(média, color=cor, label=\"Média_Comprimento:  149.5\") \n",
        "plt.legend()\n",
        "\n",
        "plt.grid()\n",
        "\n",
        "# Colocando legenda nos Eixos\n",
        "plt.xlabel(\"Comprimento(cm)\")\n",
        "plt.ylabel(\"Frequência dos dados\")\n",
        "\n",
        "plt.tight_layout()\n",
        " \n",
        "\n",
        "plt.show()"
      ],
      "metadata": {
        "colab": {
          "base_uri": "https://localhost:8080/",
          "height": 297
        },
        "id": "V7CDWyV4uOKr",
        "outputId": "645fe74a-94a7-4ab8-bed5-29889943ad67"
      },
      "execution_count": null,
      "outputs": [
        {
          "output_type": "display_data",
          "data": {
            "text/plain": [
              "<Figure size 432x288 with 1 Axes>"
            ],
            "image/png": "[encoded data removed]"
          },
          "metadata": {
            "needs_background": "light"
          }
        }
      ]
    },
    {
      "cell_type": "markdown",
      "source": [
        "# Calculando a correlação entre dos dados do comprimento e largura.\n",
        "\n",
        "**Para isso iremos utilizar a covariancia entre x e y e coeficiente de Pearson (r). Depois iremos criar o gráfico de dispersão para visualizar como as grandezas de correlacionam graficamente.**\n",
        "\n",
        "**Coeficiente de correlação linear de Pearson(r) que varia o intervalo entre -1 e 1.**\n",
        "\n",
        "\n",
        "\\begin{equation}\n",
        " \\boxed{r = \\frac{\\sigma_{xy}}{\\sigma_{x}\\sigma_{y}}} \n",
        "\\end{equation}\n",
        "\n",
        "Pela só precisamos calcular a covariancia e dividir pelo produto dos desvios padraões\n"
      ],
      "metadata": {
        "id": "AmOzSWxewW23"
      }
    },
    {
      "cell_type": "code",
      "source": [
        "import pandas as pd\n",
        "import numpy as np\n",
        "\n",
        "\n",
        "print(\"Calculando a covariancia entre comprimento e largura\")\n",
        "Covariancia = np.cov(tabela[\"C\"], tabela[\"L\"])[1][0]\n",
        "\n",
        "print()\n",
        "\n",
        "print(\"Covariancia entre Comprimento e Largura:\", Covariancia)\n",
        "\n",
        "print()\n",
        "\n",
        "print(\"Calculando o Coeficiente de Pearson\")\n",
        "\n",
        "print()\n",
        "\n",
        "r = Covariancia/(Dp_Comprimento*Dp_Largura)\n",
        "\n",
        "print(\"Coeficiente de Pearson (r) =\", r)\n"
      ],
      "metadata": {
        "colab": {
          "base_uri": "https://localhost:8080/"
        },
        "id": "UfMn9Mesw5tm",
        "outputId": "48c18093-963e-4530-873c-edc68ec3d365"
      },
      "execution_count": null,
      "outputs": [
        {
          "output_type": "stream",
          "name": "stdout",
          "text": [
            "Calculando a covariancia entre comprimento e largura\n",
            "\n",
            "Covariancia entre Comprimento e Largura: -0.01473333333333329\n",
            "\n",
            "Calculando o Coeficiente de Pearson\n",
            "\n",
            "Coeficiente de Pearson (r) = -0.19022130357241276\n"
          ]
        }
      ]
    },
    {
      "cell_type": "markdown",
      "source": [
        "**Podemos ver que tanto a covariancia, quanto o coeficente de Pearson deram valores negativos, logo as grandezas de comprimento e largura não são correlacionadas entre si, na verdade são inversamente correlacionadas. \n",
        "Quando uma cresce, outra cai e vice-versa. Podemos avaliar isso pelo gráfica de dispersão abaixo.**"
      ],
      "metadata": {
        "id": "ZUf6A3uh-yAX"
      }
    },
    {
      "cell_type": "code",
      "source": [
        "import pandas as pd\n",
        "import matplotlib.pyplot as plt\n",
        "\n",
        "tabela = pd.read_excel(\"/content/PlanilhaMec.xlsx\")#aqui irá ler os dados em Excel\n",
        "\n",
        "plt.scatter(tabela[\"C\"],tabela[\"L\"],) #Aqui posso criar um gráfico de dispersão com os eixos x e y\n",
        "plt.xlabel(\"Comprimento(cm)\") #Colocando legendas no eixo x que é o comprimento neste caso\n",
        "plt.ylabel(\"Largura(cm)\") #Colocando legendas no eixo y que é a largura neste caso\n",
        "\n",
        "plt.title(\"Dispersão entre C(cm) x L(cm)\")\n",
        "\n",
        "plt.grid()\n",
        "\n",
        "plt.show()\n"
      ],
      "metadata": {
        "colab": {
          "base_uri": "https://localhost:8080/",
          "height": 295
        },
        "id": "bFJGJdqj2w9c",
        "outputId": "047b72bd-068f-483e-d695-71beed6dc922"
      },
      "execution_count": null,
      "outputs": [
        {
          "output_type": "display_data",
          "data": {
            "text/plain": [
              "<Figure size 432x288 with 1 Axes>"
            ],
            "image/png": "[encoded data removed]"
          },
          "metadata": {
            "needs_background": "light"
          }
        }
      ]
    },
    {
      "cell_type": "code",
      "source": [
        "import pandas as pd\n",
        "import matplotlib.pyplot as plt\n",
        "\n",
        "tabela = pd.read_excel(\"/content/PlanilhaMec.xlsx\")#aqui irá ler os dados em Excel\n",
        "\n",
        "plt.scatter(tabela[\"L\"],tabela[\"C\"],) #Aqui posso criar um gráfico de dispersão com os eixos x e y\n",
        "plt.xlabel(\"Largura(cm)\") #Colocando legendas no eixo x que é o comprimento neste caso\n",
        "plt.ylabel(\"Comprimento(cm)\") #Colocando legendas no eixo y que é a largura neste caso\n",
        "plt.title(\"Dispersão entre L(cm) x C(cm)\")\n",
        "plt.grid()\n",
        "plt.savefig(\"Dispersão2.png\")\n",
        "\n",
        "plt.show()"
      ],
      "metadata": {
        "colab": {
          "base_uri": "https://localhost:8080/",
          "height": 295
        },
        "id": "i_A9JcQuN42e",
        "outputId": "bc4e67be-2622-445a-e7e1-d19c5730090d"
      },
      "execution_count": null,
      "outputs": [
        {
          "output_type": "display_data",
          "data": {
            "text/plain": [
              "<Figure size 432x288 with 1 Axes>"
            ],
            "image/png": "[encoded data removed]"
          },
          "metadata": {
            "needs_background": "light"
          }
        }
      ]
    },
    {
      "cell_type": "markdown",
      "source": [
        "**Podemos ver também que os gráficos não apresentam correlação, o maior valor de uma grandeza é o menor de outra**"
      ],
      "metadata": {
        "id": "DVxgy49ROHD_"
      }
    },
    {
      "cell_type": "markdown",
      "source": [
        "Agora criarei os gráficos da turma com as médias de comprimento, largura e área"
      ],
      "metadata": {
        "id": "jJwbzrqnnIDE"
      }
    },
    {
      "cell_type": "code",
      "source": [
        "import matplotlib.pyplot as plt\n",
        "\n",
        "Media_Comp=[149.88,150.02,150.00,149.99,149.84,150.01,150.07,150.02,149.01,150.15,149.51,150.01,150.17,150.22,149.90]\n",
        "plt.title('Média Comprimento Turma', fontsize=10)\n",
        "plt.xlabel('Comprimento(cm)', fontsize=10)\n",
        "plt.ylabel('Frequência Absoluta', fontsize=10)\n",
        "\n",
        "# média =  149.98\n",
        "# cor = \"black\"\n",
        "# plt.axvline(média, color=cor, label=\"Média_Comprimento:  149.98\") \n",
        "# plt.legend()\n",
        "\n",
        "plt.tick_params(labelsize=10)\n",
        "plt.grid()\n",
        "\n",
        "plt.hist(Media_Comp, 4, color='green', alpha=0.7, edgecolor='black')\n",
        "plt.savefig(\"Media_Alunos_Comp.jpg\")\n",
        "plt.show()\n",
        "\n",
        "\n"
      ],
      "metadata": {
        "colab": {
          "base_uri": "https://localhost:8080/",
          "height": 294
        },
        "outputId": "4012144a-88af-434b-be74-ceffe6163b5f",
        "id": "ADM5tSZVjjUw"
      },
      "execution_count": null,
      "outputs": [
        {
          "output_type": "display_data",
          "data": {
            "text/plain": [
              "<Figure size 432x288 with 1 Axes>"
            ],
            "image/png": "[encoded data removed]"
          },
          "metadata": {
            "needs_background": "light"
          }
        }
      ]
    },
    {
      "cell_type": "code",
      "source": [
        "import matplotlib.pyplot as plt\n",
        "\n",
        "Media_Larg=[75.19,75.08,75.12,75.09,74.92,75.16,75.16,75.08,75.17,75.19,74.91,75.11,75.29,75.09,74.90]\n",
        "plt.title('Média Largura Turma', fontsize=10)\n",
        "plt.xlabel('Largura(cm)', fontsize=10)\n",
        "plt.ylabel('Frequência Absoluta', fontsize=10)\n",
        "\n",
        "# média =  75.10\n",
        "# cor = \"black\"\n",
        "# plt.axvline(média, color=cor, label=\"Média_Largura:  75.10\") \n",
        "# plt.legend()\n",
        "\n",
        "plt.tick_params(labelsize=10)\n",
        "plt.grid()\n",
        "\n",
        "plt.hist(Media_Larg, 4, color='green', alpha=0.7, edgecolor='black')\n",
        "plt.savefig(\"Media_Alunos_Larg.jpg\")\n",
        "plt.show()\n",
        "\n",
        "\n"
      ],
      "metadata": {
        "colab": {
          "base_uri": "https://localhost:8080/",
          "height": 294
        },
        "outputId": "7caa722b-c86d-4c0a-aaa5-67762990c51b",
        "id": "BgFQ6agBoylO"
      },
      "execution_count": null,
      "outputs": [
        {
          "output_type": "display_data",
          "data": {
            "text/plain": [
              "<Figure size 432x288 with 1 Axes>"
            ],
            "image/png": "[encoded data removed]"
          },
          "metadata": {
            "needs_background": "light"
          }
        }
      ]
    },
    {
      "cell_type": "markdown",
      "source": [
        ""
      ],
      "metadata": {
        "id": "HEOslBN6PN2b"
      }
    },
    {
      "cell_type": "code",
      "source": [
        "import matplotlib.pyplot as plt\n",
        "\n",
        "Media_Area=[11269.40,11264.40,11268.30,11263.79,11222.72,11278.52,11279.71,11264.40,11272.48,11290.83,11203.23,11267.70,11305.25,11230.81]\n",
        "plt.title('Média Área Turma', fontsize=10)\n",
        "plt.xlabel('Área(cm²)', fontsize=10)\n",
        "plt.ylabel('Frequência Absoluta', fontsize=10)\n",
        "\n",
        "# média =  11264.12\n",
        "# cor = \"black\"\n",
        "# plt.axvline(média, color=cor, label=\"Média_Area:11264.12\") \n",
        "# plt.legend()\n",
        "\n",
        "plt.tick_params(labelsize=10)\n",
        "plt.grid()\n",
        "\n",
        "plt.hist(Media_Area, 4,color='green', alpha=0.7, edgecolor='black')\n",
        "plt.savefig(\"Media_Alunos_Area.jpg\")\n",
        "plt.show()\n",
        "\n",
        "\n"
      ],
      "metadata": {
        "colab": {
          "base_uri": "https://localhost:8080/",
          "height": 295
        },
        "outputId": "26944f0a-a0bf-452a-d30e-c7e094855fe9",
        "id": "5KLQ-5uyqcfM"
      },
      "execution_count": null,
      "outputs": [
        {
          "output_type": "display_data",
          "data": {
            "text/plain": [
              "<Figure size 432x288 with 1 Axes>"
            ],
            "image/png": "[encoded data removed]"
          },
          "metadata": {
            "needs_background": "light"
          }
        }
      ]
    },
    {
      "cell_type": "markdown",
      "source": [
        "\n",
        "\n",
        "**Agora podemos calcular a incerteza da Área por meio da propagação de erros utilizando a relação abaixo:**\n",
        "\n",
        "\\begin{equation}\n",
        " \\boxed{σ_{A} = A \\sqrt{\\left (\\dfrac{σ_{c}}{c} \\right)^2 + \\left (\\dfrac{ σ_{l}}{l} \\right)^2}} \n",
        "\\end{equation}"
      ],
      "metadata": {
        "id": "vscYsMzeAVpR"
      }
    },
    {
      "cell_type": "code",
      "source": [
        "\n",
        "import numpy as np \n",
        "# Derivada em g\n",
        "Derivada_g = (2/(0.30)**2)\n",
        "print(\"Derivada em G: \", Derivada_g)\n",
        "\n",
        "# Derivada em t\n",
        "Derivada_t = ((-2*0.90)/(0.30)**3)\n",
        "print(\"Derivada em T: \", Derivada_t)\n",
        "\n",
        "\n",
        "#Calculando a incerteza de g no analogico\n",
        "erro_g = np.sqrt((Derivada_g * 0.0005)**2 + (Derivada_t * 0.0077)**2)\n",
        "print(\"Erro de g analogico: \", erro_g)"
      ],
      "metadata": {
        "colab": {
          "base_uri": "https://localhost:8080/"
        },
        "id": "EfrUT6dy_FvD",
        "outputId": "2ff10a42-7f97-478b-8710-1044a8c2e48c"
      },
      "execution_count": null,
      "outputs": [
        {
          "output_type": "stream",
          "name": "stdout",
          "text": [
            "Derivada em G:  22.22222222222222\n",
            "Derivada em T:  -66.66666666666667\n",
            "Erro de g analogico:  0.5134535693723773\n"
          ]
        }
      ]
    },
    {
      "cell_type": "markdown",
      "source": [
        "**Calculando a incerteza de g no digital**"
      ],
      "metadata": {
        "id": "H0qrh7U34tG7"
      }
    },
    {
      "cell_type": "code",
      "source": [
        "\n",
        "import numpy as np \n",
        "# Derivada em g\n",
        "Derivada_g = (2/(0.42)**2)\n",
        "print(\"Derivada em G: \", Derivada_g)\n",
        "\n",
        "# Derivada em t\n",
        "Derivada_t = ((-2*0.90)/(0.42)**3)\n",
        "print(\"Derivada em T: \", Derivada_t)\n",
        "\n",
        "#Calculando a incerteza de g no analogico\n",
        "erro_g = np.sqrt((Derivada_g * 0.0005)**2 + (Derivada_t * 0.00081)**2)\n",
        "print(\"Erro de g digital: \", erro_g)"
      ],
      "metadata": {
        "colab": {
          "base_uri": "https://localhost:8080/"
        },
        "outputId": "89e94533-6367-408d-95b7-e5b9d174f745",
        "id": "dc4zs6zJ4qsr"
      },
      "execution_count": null,
      "outputs": [
        {
          "output_type": "stream",
          "name": "stdout",
          "text": [
            "0.0006330749354005168\n",
            "Derivada em G:  11.337868480725625\n",
            "Derivada em T:  -24.29543245869777\n",
            "Erro de g digital:  0.02047954285101034\n"
          ]
        }
      ]
    },
    {
      "cell_type": "markdown",
      "source": [
        "**Calculando compatibilidade em Python**\n",
        " \n",
        " A compatibilidade  e discrepância é dada pela seguinte relação:\n",
        "\n",
        " \\begin{equation}\n",
        "    |\\bar{x}-x_{ref}|< 2σ_{\\bar{x}}\n",
        "\\end{equation}  \n",
        "\n",
        "Sendo que se a discrepancia for menor que 2x a incerteza(σx) do valor de referência, aceita-se a compatibilidade.\n",
        "\n",
        "Caso a discrepância caia na região entre 2x e 3x a incerteza(σx) o experimento é dado como **inconclusivo**.\n",
        "\n"
      ],
      "metadata": {
        "id": "-J_UNW7LAjEa"
      }
    },
    {
      "cell_type": "code",
      "source": [
        "\n",
        "\n",
        "import numpy as np\n",
        "\n",
        "#Valor de referencia\n",
        "g_ref = 9.79\n",
        "#Valor da nossa gravidade \n",
        "G_digital = 10\n",
        "#Incerteza da nossa gravidade\n",
        "Incerteza_Gravidade = 0.020\n",
        "\n",
        "#Erro2xSigmas\n",
        "DoisSigma = round(2 * Incerteza_Gravidade,2)\n",
        "print(\"2sigma:\", DoisSigma)\n",
        "\n",
        "#Erro3xSigmas\n",
        "TresSigma = round(3 * Incerteza_Gravidade,2)\n",
        "print(\"3sigma:\", TresSigma)\n",
        "\n",
        "# Calculando a discrepancia, vamos precisar calcular o módulo\n",
        "discrepancia = np.abs(round(G_digital - g_ref,2)) #Utilizando a função abs para calcular o valor absoluto, ou o módulo\n",
        "print(\"O valor da discrepancia é :\", discrepancia)\n",
        "\n",
        "#Agora vamos avaliar a compatibilidade\n",
        "if(discrepancia < DoisSigma):\n",
        "   print(\"É compativel com o valor de referencia\", discrepancia, \"<\" , DoisSigma)\n",
        "elif(DoisSigma > discrepancia < TresSigma):\n",
        "   print(\"O valor está na região entre 2x e 3x a incerteza(sigma), logo inconclusivo:\", discrepancia, \">\", DoisSigma)\n",
        "else:\n",
        "  print(\"O valor é superior que 3x a incerteza(sigma), logo imcompativel :\", discrepancia, \">\",  TresSigma)\n"
      ],
      "metadata": {
        "id": "dUjzpBYsPTWe",
        "colab": {
          "base_uri": "https://localhost:8080/"
        },
        "outputId": "12ad0008-b498-492c-f83e-d28bda2e87a1"
      },
      "execution_count": 1,
      "outputs": [
        {
          "output_type": "stream",
          "name": "stdout",
          "text": [
            "9.79\n",
            "2sigma: 0.04\n",
            "3sigma: 0.06\n",
            "O valor da discrepancia é : 0.21\n",
            "O valor é superior que 3x a incerteza(sigma), logo imcompativel : 0.21 > 0.06\n"
          ]
        }
      ]
    },
    {
      "cell_type": "markdown",
      "source": [
        "**Compatibilidade meu Comprimento com comprimento de referência 150.00**"
      ],
      "metadata": {
        "id": "2aRPwDgiPcY1"
      }
    },
    {
      "cell_type": "code",
      "source": [
        "\n",
        "!jupyter nbconvert --to html CalculosMecanica.ipynb\n"
      ],
      "metadata": {
        "id": "V1GcjNfB3QcY"
      },
      "execution_count": null,
      "outputs": []
    }
  ]
}